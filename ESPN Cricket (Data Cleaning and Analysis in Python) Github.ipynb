{
 "cells": [
  {
   "cell_type": "code",
   "execution_count": 3,
   "id": "54b682eb",
   "metadata": {},
   "outputs": [],
   "source": [
    "import pandas as pd\n",
    "import numpy as np\n",
    "import matplotlib.pyplot as plt\n",
    "from scipy.stats import zscore\n",
    "import seaborn as sns\n"
   ]
  },
  {
   "cell_type": "code",
   "execution_count": 4,
   "id": "ee54eca1",
   "metadata": {},
   "outputs": [],
   "source": [
    "#This is a quick project showcasing my understanding and comfort with cleaning data and analyzing it (and visualizing data)\n",
    "# through the use of Python libraries such as Numpy, Pandas, Matplotlib and Seaborn\n",
    "\n",
    "#We brought in a dataset from the ESPN Site here: https://www.espncricinfo.com/records/highest-career-batting-average-282910\n",
    "#showing the most dominant batters in cricket history\n",
    "\n",
    "#All Activities are split by a keyword \"TASK\" which helps me showcase how I'd go about solving each situation"
   ]
  },
  {
   "cell_type": "code",
   "execution_count": 5,
   "id": "5c945048",
   "metadata": {},
   "outputs": [],
   "source": [
    "espn_data = pd.read_excel(r'ESPN Cricket.xlsx')\n"
   ]
  },
  {
   "cell_type": "code",
   "execution_count": 6,
   "id": "8bec504d",
   "metadata": {},
   "outputs": [],
   "source": [
    "df = espn_data.copy()"
   ]
  },
  {
   "cell_type": "code",
   "execution_count": 7,
   "id": "af67e74e",
   "metadata": {},
   "outputs": [
    {
     "data": {
      "text/html": [
       "<div>\n",
       "<style scoped>\n",
       "    .dataframe tbody tr th:only-of-type {\n",
       "        vertical-align: middle;\n",
       "    }\n",
       "\n",
       "    .dataframe tbody tr th {\n",
       "        vertical-align: top;\n",
       "    }\n",
       "\n",
       "    .dataframe thead th {\n",
       "        text-align: right;\n",
       "    }\n",
       "</style>\n",
       "<table border=\"1\" class=\"dataframe\">\n",
       "  <thead>\n",
       "    <tr style=\"text-align: right;\">\n",
       "      <th></th>\n",
       "      <th>Player</th>\n",
       "      <th>Span</th>\n",
       "      <th>Mat</th>\n",
       "      <th>Inns</th>\n",
       "      <th>NO</th>\n",
       "      <th>Runs</th>\n",
       "      <th>HS</th>\n",
       "      <th>Ave</th>\n",
       "      <th>BF</th>\n",
       "      <th>SR</th>\n",
       "      <th>100</th>\n",
       "      <th>50</th>\n",
       "      <th>0</th>\n",
       "      <th>4s</th>\n",
       "      <th>6s</th>\n",
       "    </tr>\n",
       "  </thead>\n",
       "  <tbody>\n",
       "    <tr>\n",
       "      <th>0</th>\n",
       "      <td>DG Bradman (AUS)</td>\n",
       "      <td>1928-1948</td>\n",
       "      <td>52</td>\n",
       "      <td>80.0</td>\n",
       "      <td>10.0</td>\n",
       "      <td>6996</td>\n",
       "      <td>334</td>\n",
       "      <td>99.94</td>\n",
       "      <td>9800+</td>\n",
       "      <td>58.60</td>\n",
       "      <td>29</td>\n",
       "      <td>13</td>\n",
       "      <td>7</td>\n",
       "      <td>626</td>\n",
       "      <td>6</td>\n",
       "    </tr>\n",
       "    <tr>\n",
       "      <th>1</th>\n",
       "      <td>HC Brook (ENG)</td>\n",
       "      <td>2022-2023</td>\n",
       "      <td>12</td>\n",
       "      <td>20.0</td>\n",
       "      <td>1.0</td>\n",
       "      <td>1181</td>\n",
       "      <td>186</td>\n",
       "      <td>62.15</td>\n",
       "      <td>1287</td>\n",
       "      <td>91.76</td>\n",
       "      <td>4</td>\n",
       "      <td>7</td>\n",
       "      <td>1</td>\n",
       "      <td>141</td>\n",
       "      <td>23</td>\n",
       "    </tr>\n",
       "    <tr>\n",
       "      <th>2</th>\n",
       "      <td>AC Voges (AUS)</td>\n",
       "      <td>2015-2016</td>\n",
       "      <td>20</td>\n",
       "      <td>31.0</td>\n",
       "      <td>7.0</td>\n",
       "      <td>1485</td>\n",
       "      <td>269*</td>\n",
       "      <td>61.87</td>\n",
       "      <td>2667</td>\n",
       "      <td>55.68</td>\n",
       "      <td>5</td>\n",
       "      <td>4</td>\n",
       "      <td>2</td>\n",
       "      <td>186</td>\n",
       "      <td>5</td>\n",
       "    </tr>\n",
       "    <tr>\n",
       "      <th>3</th>\n",
       "      <td>RG Pollock (SA)</td>\n",
       "      <td>1963-1970</td>\n",
       "      <td>23</td>\n",
       "      <td>41.0</td>\n",
       "      <td>4.0</td>\n",
       "      <td>2256</td>\n",
       "      <td>274</td>\n",
       "      <td>60.97</td>\n",
       "      <td>1707+</td>\n",
       "      <td>54.48</td>\n",
       "      <td>7</td>\n",
       "      <td>11</td>\n",
       "      <td>1</td>\n",
       "      <td>246</td>\n",
       "      <td>11</td>\n",
       "    </tr>\n",
       "  </tbody>\n",
       "</table>\n",
       "</div>"
      ],
      "text/plain": [
       "             Player       Span Mat  Inns    NO  Runs    HS    Ave     BF  \\\n",
       "0  DG Bradman (AUS)  1928-1948  52  80.0  10.0  6996   334  99.94  9800+   \n",
       "1    HC Brook (ENG)  2022-2023  12  20.0   1.0  1181   186  62.15   1287   \n",
       "2    AC Voges (AUS)  2015-2016  20  31.0   7.0  1485  269*  61.87   2667   \n",
       "3   RG Pollock (SA)  1963-1970  23  41.0   4.0  2256   274  60.97  1707+   \n",
       "\n",
       "      SR  100  50  0   4s  6s  \n",
       "0  58.60   29  13  7  626   6  \n",
       "1  91.76    4   7  1  141  23  \n",
       "2  55.68    5   4  2  186   5  \n",
       "3  54.48    7  11  1  246  11  "
      ]
     },
     "execution_count": 7,
     "metadata": {},
     "output_type": "execute_result"
    }
   ],
   "source": [
    "df.head(4)"
   ]
  },
  {
   "cell_type": "markdown",
   "id": "deb50774",
   "metadata": {},
   "source": [
    "# Data Cleaning"
   ]
  },
  {
   "cell_type": "code",
   "execution_count": 8,
   "id": "e09eff2c",
   "metadata": {},
   "outputs": [],
   "source": [
    "#TASK: Renaming columns (to help non-cricket fans understand the context)\n",
    "df = df.rename(columns={'NO':'Not_Outs',\n",
    "                        'HS':'Highest_Inn_Score',\n",
    "                        'BF':'Balls_Faced',\n",
    "                        'SR':'Batting_Strike_Rate',\n",
    "                        '100':'Hundred_Scored',\n",
    "                        '50':'Fifties_Scored',\n",
    "                        '0s':'Ducks_Scored',\n",
    "                       '4s':'Boundary_Fours',\n",
    "                       '6s':'Boundary_Sixes',\n",
    "                       'Span':'Years_Played',\n",
    "                       'Mat':'Matches_Played',\n",
    "                       'Inn':'Innings_Batted',\n",
    "                       'Ave':'Batting_Average'})"
   ]
  },
  {
   "cell_type": "code",
   "execution_count": 9,
   "id": "a595baba",
   "metadata": {},
   "outputs": [
    {
     "data": {
      "text/html": [
       "<div>\n",
       "<style scoped>\n",
       "    .dataframe tbody tr th:only-of-type {\n",
       "        vertical-align: middle;\n",
       "    }\n",
       "\n",
       "    .dataframe tbody tr th {\n",
       "        vertical-align: top;\n",
       "    }\n",
       "\n",
       "    .dataframe thead th {\n",
       "        text-align: right;\n",
       "    }\n",
       "</style>\n",
       "<table border=\"1\" class=\"dataframe\">\n",
       "  <thead>\n",
       "    <tr style=\"text-align: right;\">\n",
       "      <th></th>\n",
       "      <th>Player</th>\n",
       "      <th>Years_Played</th>\n",
       "      <th>Matches_Played</th>\n",
       "      <th>Inns</th>\n",
       "      <th>Not_Outs</th>\n",
       "      <th>Runs</th>\n",
       "      <th>Highest_Inn_Score</th>\n",
       "      <th>Batting_Average</th>\n",
       "      <th>Balls_Faced</th>\n",
       "      <th>Batting_Strike_Rate</th>\n",
       "      <th>Hundred_Scored</th>\n",
       "      <th>Fifties_Scored</th>\n",
       "      <th>0</th>\n",
       "      <th>Boundary_Fours</th>\n",
       "      <th>Boundary_Sixes</th>\n",
       "    </tr>\n",
       "  </thead>\n",
       "  <tbody>\n",
       "    <tr>\n",
       "      <th>0</th>\n",
       "      <td>DG Bradman (AUS)</td>\n",
       "      <td>1928-1948</td>\n",
       "      <td>52</td>\n",
       "      <td>80.0</td>\n",
       "      <td>10.0</td>\n",
       "      <td>6996</td>\n",
       "      <td>334</td>\n",
       "      <td>99.94</td>\n",
       "      <td>9800+</td>\n",
       "      <td>58.60</td>\n",
       "      <td>29</td>\n",
       "      <td>13</td>\n",
       "      <td>7</td>\n",
       "      <td>626</td>\n",
       "      <td>6</td>\n",
       "    </tr>\n",
       "  </tbody>\n",
       "</table>\n",
       "</div>"
      ],
      "text/plain": [
       "             Player Years_Played Matches_Played  Inns  Not_Outs  Runs  \\\n",
       "0  DG Bradman (AUS)    1928-1948             52  80.0      10.0  6996   \n",
       "\n",
       "  Highest_Inn_Score  Batting_Average Balls_Faced Batting_Strike_Rate  \\\n",
       "0               334            99.94       9800+               58.60   \n",
       "\n",
       "   Hundred_Scored  Fifties_Scored  0  Boundary_Fours  Boundary_Sixes  \n",
       "0              29              13  7             626               6  "
      ]
     },
     "execution_count": 9,
     "metadata": {},
     "output_type": "execute_result"
    }
   ],
   "source": [
    "df.head(1)"
   ]
  },
  {
   "cell_type": "code",
   "execution_count": 10,
   "id": "be8b2284",
   "metadata": {},
   "outputs": [
    {
     "data": {
      "text/plain": [
       "Player                 False\n",
       "Years_Played           False\n",
       "Matches_Played         False\n",
       "Inns                    True\n",
       "Not_Outs                True\n",
       "Runs                   False\n",
       "Highest_Inn_Score      False\n",
       "Batting_Average        False\n",
       "Balls_Faced            False\n",
       "Batting_Strike_Rate    False\n",
       "Hundred_Scored         False\n",
       "Fifties_Scored         False\n",
       "0                      False\n",
       "Boundary_Fours         False\n",
       "Boundary_Sixes         False\n",
       "dtype: bool"
      ]
     },
     "execution_count": 10,
     "metadata": {},
     "output_type": "execute_result"
    }
   ],
   "source": [
    "#TASK: Checking for null values\n",
    "df.isnull().any() #determines if there are any null values in any series of df\n"
   ]
  },
  {
   "cell_type": "code",
   "execution_count": 11,
   "id": "d334b16d",
   "metadata": {},
   "outputs": [],
   "source": [
    "#TASK: resolving null values\n",
    "#retrieving null values\n",
    "df[df['Inns'].isna()==1] # (1 = True)\n",
    "df[df['Not_Outs'].isna()==1]\n",
    "\n",
    "#determining spread of null value columns (whether to use mean or median for null replacement)\n",
    "df['Inns'].mean() #139\n",
    "df['Inns'].median() #137... relatively close (no large outlier), can use mean\n",
    "\n",
    "df['Not_Outs'].mean() #14\n",
    "df['Not_Outs'].median() #12 \n",
    "\n",
    "#replacing the nulls with mean of columns\n",
    "df['Inns'].fillna(df['Inns'].mean(),inplace=True)\n",
    "df['Not_Outs'].fillna(df['Not_Outs'].mean(),inplace=True)\n",
    "\n",
    "\n"
   ]
  },
  {
   "cell_type": "code",
   "execution_count": 12,
   "id": "61257643",
   "metadata": {},
   "outputs": [
    {
     "data": {
      "text/plain": [
       "Player                 False\n",
       "Years_Played           False\n",
       "Matches_Played         False\n",
       "Inns                   False\n",
       "Not_Outs               False\n",
       "Runs                   False\n",
       "Highest_Inn_Score      False\n",
       "Batting_Average        False\n",
       "Balls_Faced            False\n",
       "Batting_Strike_Rate    False\n",
       "Hundred_Scored         False\n",
       "Fifties_Scored         False\n",
       "0                      False\n",
       "Boundary_Fours         False\n",
       "Boundary_Sixes         False\n",
       "dtype: bool"
      ]
     },
     "execution_count": 12,
     "metadata": {},
     "output_type": "execute_result"
    }
   ],
   "source": [
    "df.isnull().any() #veryifying no nulls remain"
   ]
  },
  {
   "cell_type": "code",
   "execution_count": 13,
   "id": "945c7f60",
   "metadata": {},
   "outputs": [],
   "source": [
    "#TASK: Finding Duplicates\n",
    "df.duplicated() #high level test to see if any records are duplicated\n",
    "df[df['Player'].duplicated()==True] #finds and presents which record of Player is duplicated (only shows duplicate entry)\n",
    "\n",
    "#can also use method below to show all records including the original and duplicated\n",
    "df[df['Player'].isin(['KC Sangakkara (SL)'])]\n",
    "\n",
    "#drops duplicates\n",
    "df.drop_duplicates(inplace=True)\n",
    "\n"
   ]
  },
  {
   "cell_type": "code",
   "execution_count": 14,
   "id": "51499c02",
   "metadata": {},
   "outputs": [
    {
     "data": {
      "text/html": [
       "<div>\n",
       "<style scoped>\n",
       "    .dataframe tbody tr th:only-of-type {\n",
       "        vertical-align: middle;\n",
       "    }\n",
       "\n",
       "    .dataframe tbody tr th {\n",
       "        vertical-align: top;\n",
       "    }\n",
       "\n",
       "    .dataframe thead th {\n",
       "        text-align: right;\n",
       "    }\n",
       "</style>\n",
       "<table border=\"1\" class=\"dataframe\">\n",
       "  <thead>\n",
       "    <tr style=\"text-align: right;\">\n",
       "      <th></th>\n",
       "      <th>Player</th>\n",
       "      <th>Years_Played</th>\n",
       "      <th>Matches_Played</th>\n",
       "      <th>Inns</th>\n",
       "      <th>Not_Outs</th>\n",
       "      <th>Runs</th>\n",
       "      <th>Highest_Inn_Score</th>\n",
       "      <th>Batting_Average</th>\n",
       "      <th>Balls_Faced</th>\n",
       "      <th>Batting_Strike_Rate</th>\n",
       "      <th>Hundred_Scored</th>\n",
       "      <th>Fifties_Scored</th>\n",
       "      <th>0</th>\n",
       "      <th>Boundary_Fours</th>\n",
       "      <th>Boundary_Sixes</th>\n",
       "    </tr>\n",
       "  </thead>\n",
       "  <tbody>\n",
       "  </tbody>\n",
       "</table>\n",
       "</div>"
      ],
      "text/plain": [
       "Empty DataFrame\n",
       "Columns: [Player, Years_Played, Matches_Played, Inns, Not_Outs, Runs, Highest_Inn_Score, Batting_Average, Balls_Faced, Batting_Strike_Rate, Hundred_Scored, Fifties_Scored, 0, Boundary_Fours, Boundary_Sixes]\n",
       "Index: []"
      ]
     },
     "execution_count": 14,
     "metadata": {},
     "output_type": "execute_result"
    }
   ],
   "source": [
    "df[df['Player'].duplicated()==True] #verifying no duplicates remain"
   ]
  },
  {
   "cell_type": "code",
   "execution_count": 15,
   "id": "d3529325",
   "metadata": {},
   "outputs": [],
   "source": [
    "#TASK: splitting a Years_Played column into Start Year, End Year \n",
    "#Creating function to split columns in two\n",
    "def time_played(time):\n",
    "    start_date,end_date=time.split('-')\n",
    "    Start_Year = int(start_date[:4])\n",
    "    End_Year = int(end_date[:4])\n",
    "    return Start_Year,End_Year\n",
    "\n",
    "#create new column names\n",
    "new_columns = ['Start_Year','End_Year']    "
   ]
  },
  {
   "cell_type": "code",
   "execution_count": 16,
   "id": "44ff7148",
   "metadata": {},
   "outputs": [],
   "source": [
    "#input data for new columns\n",
    "new_column_data = df['Years_Played'].apply(lambda x: pd.Series(time_played(x)))"
   ]
  },
  {
   "cell_type": "code",
   "execution_count": 17,
   "id": "2713e168",
   "metadata": {},
   "outputs": [
    {
     "data": {
      "text/plain": [
       "'\\ndf[\\'Start_Year\\'] = df[\\'Years_Played\\'].str.split(pat=\\'-\\'),str[0] #grabs first index after splitting column by \"-\" pattern\\n#which would lead to lists like [2015, 2040] allowing us to grab each element by index str[0] is start year and [1] is end\\n\\nNote: only issue with above code is the new columns will be added to end of the df instead of right after the original column as \\nwe did above\\n'"
      ]
     },
     "execution_count": 17,
     "metadata": {},
     "output_type": "execute_result"
    }
   ],
   "source": [
    "#creating a new column by iterating through range of new columns variable\n",
    "for i in range(len(new_columns)):\n",
    "    df.insert(loc=df.columns.get_loc('Years_Played')+1+i,column=new_columns[i],value=new_column_data[i])\n",
    "    \n",
    "#alternate way:\n",
    "'''\n",
    "df['Start_Year'] = df['Years_Played'].str.split(pat='-'),str[0] #grabs first index after splitting column by \"-\" pattern\n",
    "#which would lead to lists like [2015, 2040] allowing us to grab each element by index str[0] is start year and [1] is end\n",
    "\n",
    "Note: only issue with above code is the new columns will be added to end of the df instead of right after the original column as \n",
    "we did above\n",
    "'''"
   ]
  },
  {
   "cell_type": "code",
   "execution_count": 18,
   "id": "aaf38ed2",
   "metadata": {},
   "outputs": [
    {
     "data": {
      "text/html": [
       "<div>\n",
       "<style scoped>\n",
       "    .dataframe tbody tr th:only-of-type {\n",
       "        vertical-align: middle;\n",
       "    }\n",
       "\n",
       "    .dataframe tbody tr th {\n",
       "        vertical-align: top;\n",
       "    }\n",
       "\n",
       "    .dataframe thead th {\n",
       "        text-align: right;\n",
       "    }\n",
       "</style>\n",
       "<table border=\"1\" class=\"dataframe\">\n",
       "  <thead>\n",
       "    <tr style=\"text-align: right;\">\n",
       "      <th></th>\n",
       "      <th>Player</th>\n",
       "      <th>Years_Played</th>\n",
       "      <th>Start_Year</th>\n",
       "      <th>End_Year</th>\n",
       "      <th>Matches_Played</th>\n",
       "      <th>Inns</th>\n",
       "      <th>Not_Outs</th>\n",
       "      <th>Runs</th>\n",
       "      <th>Highest_Inn_Score</th>\n",
       "      <th>Batting_Average</th>\n",
       "      <th>Balls_Faced</th>\n",
       "      <th>Batting_Strike_Rate</th>\n",
       "      <th>Hundred_Scored</th>\n",
       "      <th>Fifties_Scored</th>\n",
       "      <th>0</th>\n",
       "      <th>Boundary_Fours</th>\n",
       "      <th>Boundary_Sixes</th>\n",
       "    </tr>\n",
       "  </thead>\n",
       "  <tbody>\n",
       "    <tr>\n",
       "      <th>0</th>\n",
       "      <td>DG Bradman (AUS)</td>\n",
       "      <td>1928-1948</td>\n",
       "      <td>1928</td>\n",
       "      <td>1948</td>\n",
       "      <td>52</td>\n",
       "      <td>80.0</td>\n",
       "      <td>10.0</td>\n",
       "      <td>6996</td>\n",
       "      <td>334</td>\n",
       "      <td>99.94</td>\n",
       "      <td>9800+</td>\n",
       "      <td>58.60</td>\n",
       "      <td>29</td>\n",
       "      <td>13</td>\n",
       "      <td>7</td>\n",
       "      <td>626</td>\n",
       "      <td>6</td>\n",
       "    </tr>\n",
       "    <tr>\n",
       "      <th>1</th>\n",
       "      <td>HC Brook (ENG)</td>\n",
       "      <td>2022-2023</td>\n",
       "      <td>2022</td>\n",
       "      <td>2023</td>\n",
       "      <td>12</td>\n",
       "      <td>20.0</td>\n",
       "      <td>1.0</td>\n",
       "      <td>1181</td>\n",
       "      <td>186</td>\n",
       "      <td>62.15</td>\n",
       "      <td>1287</td>\n",
       "      <td>91.76</td>\n",
       "      <td>4</td>\n",
       "      <td>7</td>\n",
       "      <td>1</td>\n",
       "      <td>141</td>\n",
       "      <td>23</td>\n",
       "    </tr>\n",
       "    <tr>\n",
       "      <th>2</th>\n",
       "      <td>AC Voges (AUS)</td>\n",
       "      <td>2015-2016</td>\n",
       "      <td>2015</td>\n",
       "      <td>2016</td>\n",
       "      <td>20</td>\n",
       "      <td>31.0</td>\n",
       "      <td>7.0</td>\n",
       "      <td>1485</td>\n",
       "      <td>269*</td>\n",
       "      <td>61.87</td>\n",
       "      <td>2667</td>\n",
       "      <td>55.68</td>\n",
       "      <td>5</td>\n",
       "      <td>4</td>\n",
       "      <td>2</td>\n",
       "      <td>186</td>\n",
       "      <td>5</td>\n",
       "    </tr>\n",
       "  </tbody>\n",
       "</table>\n",
       "</div>"
      ],
      "text/plain": [
       "             Player Years_Played  Start_Year  End_Year Matches_Played  Inns  \\\n",
       "0  DG Bradman (AUS)    1928-1948        1928      1948             52  80.0   \n",
       "1    HC Brook (ENG)    2022-2023        2022      2023             12  20.0   \n",
       "2    AC Voges (AUS)    2015-2016        2015      2016             20  31.0   \n",
       "\n",
       "   Not_Outs  Runs Highest_Inn_Score  Batting_Average Balls_Faced  \\\n",
       "0      10.0  6996               334            99.94       9800+   \n",
       "1       1.0  1181               186            62.15        1287   \n",
       "2       7.0  1485              269*            61.87        2667   \n",
       "\n",
       "  Batting_Strike_Rate  Hundred_Scored  Fifties_Scored  0  Boundary_Fours  \\\n",
       "0               58.60              29              13  7             626   \n",
       "1               91.76               4               7  1             141   \n",
       "2               55.68               5               4  2             186   \n",
       "\n",
       "   Boundary_Sixes  \n",
       "0               6  \n",
       "1              23  \n",
       "2               5  "
      ]
     },
     "execution_count": 18,
     "metadata": {},
     "output_type": "execute_result"
    }
   ],
   "source": [
    "df.head(3) #verifying our new columns are made"
   ]
  },
  {
   "cell_type": "code",
   "execution_count": 19,
   "id": "e6439eb4",
   "metadata": {},
   "outputs": [],
   "source": [
    "#removing original Years_Played column\n",
    "df.drop(['Years_Played'],axis=1, inplace=True) #axis 1 indicates we want column dropped"
   ]
  },
  {
   "cell_type": "code",
   "execution_count": 20,
   "id": "3bcccf9d",
   "metadata": {},
   "outputs": [
    {
     "data": {
      "text/html": [
       "<div>\n",
       "<style scoped>\n",
       "    .dataframe tbody tr th:only-of-type {\n",
       "        vertical-align: middle;\n",
       "    }\n",
       "\n",
       "    .dataframe tbody tr th {\n",
       "        vertical-align: top;\n",
       "    }\n",
       "\n",
       "    .dataframe thead th {\n",
       "        text-align: right;\n",
       "    }\n",
       "</style>\n",
       "<table border=\"1\" class=\"dataframe\">\n",
       "  <thead>\n",
       "    <tr style=\"text-align: right;\">\n",
       "      <th></th>\n",
       "      <th>Player</th>\n",
       "      <th>Start_Year</th>\n",
       "      <th>End_Year</th>\n",
       "      <th>Matches_Played</th>\n",
       "      <th>Inns</th>\n",
       "      <th>Not_Outs</th>\n",
       "      <th>Runs</th>\n",
       "      <th>Highest_Inn_Score</th>\n",
       "      <th>Batting_Average</th>\n",
       "      <th>Balls_Faced</th>\n",
       "      <th>Batting_Strike_Rate</th>\n",
       "      <th>Hundred_Scored</th>\n",
       "      <th>Fifties_Scored</th>\n",
       "      <th>0</th>\n",
       "      <th>Boundary_Fours</th>\n",
       "      <th>Boundary_Sixes</th>\n",
       "    </tr>\n",
       "  </thead>\n",
       "  <tbody>\n",
       "    <tr>\n",
       "      <th>0</th>\n",
       "      <td>DG Bradman (AUS)</td>\n",
       "      <td>1928</td>\n",
       "      <td>1948</td>\n",
       "      <td>52</td>\n",
       "      <td>80.0</td>\n",
       "      <td>10.0</td>\n",
       "      <td>6996</td>\n",
       "      <td>334</td>\n",
       "      <td>99.94</td>\n",
       "      <td>9800+</td>\n",
       "      <td>58.60</td>\n",
       "      <td>29</td>\n",
       "      <td>13</td>\n",
       "      <td>7</td>\n",
       "      <td>626</td>\n",
       "      <td>6</td>\n",
       "    </tr>\n",
       "    <tr>\n",
       "      <th>1</th>\n",
       "      <td>HC Brook (ENG)</td>\n",
       "      <td>2022</td>\n",
       "      <td>2023</td>\n",
       "      <td>12</td>\n",
       "      <td>20.0</td>\n",
       "      <td>1.0</td>\n",
       "      <td>1181</td>\n",
       "      <td>186</td>\n",
       "      <td>62.15</td>\n",
       "      <td>1287</td>\n",
       "      <td>91.76</td>\n",
       "      <td>4</td>\n",
       "      <td>7</td>\n",
       "      <td>1</td>\n",
       "      <td>141</td>\n",
       "      <td>23</td>\n",
       "    </tr>\n",
       "    <tr>\n",
       "      <th>2</th>\n",
       "      <td>AC Voges (AUS)</td>\n",
       "      <td>2015</td>\n",
       "      <td>2016</td>\n",
       "      <td>20</td>\n",
       "      <td>31.0</td>\n",
       "      <td>7.0</td>\n",
       "      <td>1485</td>\n",
       "      <td>269*</td>\n",
       "      <td>61.87</td>\n",
       "      <td>2667</td>\n",
       "      <td>55.68</td>\n",
       "      <td>5</td>\n",
       "      <td>4</td>\n",
       "      <td>2</td>\n",
       "      <td>186</td>\n",
       "      <td>5</td>\n",
       "    </tr>\n",
       "  </tbody>\n",
       "</table>\n",
       "</div>"
      ],
      "text/plain": [
       "             Player  Start_Year  End_Year Matches_Played  Inns  Not_Outs  \\\n",
       "0  DG Bradman (AUS)        1928      1948             52  80.0      10.0   \n",
       "1    HC Brook (ENG)        2022      2023             12  20.0       1.0   \n",
       "2    AC Voges (AUS)        2015      2016             20  31.0       7.0   \n",
       "\n",
       "   Runs Highest_Inn_Score  Batting_Average Balls_Faced Batting_Strike_Rate  \\\n",
       "0  6996               334            99.94       9800+               58.60   \n",
       "1  1181               186            62.15        1287               91.76   \n",
       "2  1485              269*            61.87        2667               55.68   \n",
       "\n",
       "   Hundred_Scored  Fifties_Scored  0  Boundary_Fours  Boundary_Sixes  \n",
       "0              29              13  7             626               6  \n",
       "1               4               7  1             141              23  \n",
       "2               5               4  2             186               5  "
      ]
     },
     "execution_count": 20,
     "metadata": {},
     "output_type": "execute_result"
    }
   ],
   "source": [
    "df.head(3) #verifying drop"
   ]
  },
  {
   "cell_type": "code",
   "execution_count": 21,
   "id": "7f28f63e",
   "metadata": {},
   "outputs": [],
   "source": [
    "#TASK: Splitting the countries from the Player Column into their own columns\n",
    "df['Country']=df['Player'].str.split(pat='(').str[1]"
   ]
  },
  {
   "cell_type": "code",
   "execution_count": 22,
   "id": "8240b700",
   "metadata": {},
   "outputs": [
    {
     "data": {
      "text/html": [
       "<div>\n",
       "<style scoped>\n",
       "    .dataframe tbody tr th:only-of-type {\n",
       "        vertical-align: middle;\n",
       "    }\n",
       "\n",
       "    .dataframe tbody tr th {\n",
       "        vertical-align: top;\n",
       "    }\n",
       "\n",
       "    .dataframe thead th {\n",
       "        text-align: right;\n",
       "    }\n",
       "</style>\n",
       "<table border=\"1\" class=\"dataframe\">\n",
       "  <thead>\n",
       "    <tr style=\"text-align: right;\">\n",
       "      <th></th>\n",
       "      <th>Player</th>\n",
       "      <th>Start_Year</th>\n",
       "      <th>End_Year</th>\n",
       "      <th>Matches_Played</th>\n",
       "      <th>Inns</th>\n",
       "      <th>Not_Outs</th>\n",
       "      <th>Runs</th>\n",
       "      <th>Highest_Inn_Score</th>\n",
       "      <th>Batting_Average</th>\n",
       "      <th>Balls_Faced</th>\n",
       "      <th>Batting_Strike_Rate</th>\n",
       "      <th>Hundred_Scored</th>\n",
       "      <th>Fifties_Scored</th>\n",
       "      <th>0</th>\n",
       "      <th>Boundary_Fours</th>\n",
       "      <th>Boundary_Sixes</th>\n",
       "      <th>Country</th>\n",
       "    </tr>\n",
       "  </thead>\n",
       "  <tbody>\n",
       "    <tr>\n",
       "      <th>0</th>\n",
       "      <td>DG Bradman (AUS)</td>\n",
       "      <td>1928</td>\n",
       "      <td>1948</td>\n",
       "      <td>52</td>\n",
       "      <td>80.0</td>\n",
       "      <td>10.0</td>\n",
       "      <td>6996</td>\n",
       "      <td>334</td>\n",
       "      <td>99.94</td>\n",
       "      <td>9800+</td>\n",
       "      <td>58.60</td>\n",
       "      <td>29</td>\n",
       "      <td>13</td>\n",
       "      <td>7</td>\n",
       "      <td>626</td>\n",
       "      <td>6</td>\n",
       "      <td>AUS)</td>\n",
       "    </tr>\n",
       "  </tbody>\n",
       "</table>\n",
       "</div>"
      ],
      "text/plain": [
       "             Player  Start_Year  End_Year Matches_Played  Inns  Not_Outs  \\\n",
       "0  DG Bradman (AUS)        1928      1948             52  80.0      10.0   \n",
       "\n",
       "   Runs Highest_Inn_Score  Batting_Average Balls_Faced Batting_Strike_Rate  \\\n",
       "0  6996               334            99.94       9800+               58.60   \n",
       "\n",
       "   Hundred_Scored  Fifties_Scored  0  Boundary_Fours  Boundary_Sixes Country  \n",
       "0              29              13  7             626               6    AUS)  "
      ]
     },
     "execution_count": 22,
     "metadata": {},
     "output_type": "execute_result"
    }
   ],
   "source": [
    "df.head(1) #verifying the country column is made"
   ]
  },
  {
   "cell_type": "code",
   "execution_count": 23,
   "id": "ceee8120",
   "metadata": {},
   "outputs": [],
   "source": [
    "df['Country']=df['Country'].str.replace(')','') #removing excess ) from each record"
   ]
  },
  {
   "cell_type": "code",
   "execution_count": 24,
   "id": "f0131eaa",
   "metadata": {},
   "outputs": [
    {
     "data": {
      "text/html": [
       "<div>\n",
       "<style scoped>\n",
       "    .dataframe tbody tr th:only-of-type {\n",
       "        vertical-align: middle;\n",
       "    }\n",
       "\n",
       "    .dataframe tbody tr th {\n",
       "        vertical-align: top;\n",
       "    }\n",
       "\n",
       "    .dataframe thead th {\n",
       "        text-align: right;\n",
       "    }\n",
       "</style>\n",
       "<table border=\"1\" class=\"dataframe\">\n",
       "  <thead>\n",
       "    <tr style=\"text-align: right;\">\n",
       "      <th></th>\n",
       "      <th>Player</th>\n",
       "      <th>Start_Year</th>\n",
       "      <th>End_Year</th>\n",
       "      <th>Matches_Played</th>\n",
       "      <th>Inns</th>\n",
       "      <th>Not_Outs</th>\n",
       "      <th>Runs</th>\n",
       "      <th>Highest_Inn_Score</th>\n",
       "      <th>Batting_Average</th>\n",
       "      <th>Balls_Faced</th>\n",
       "      <th>Batting_Strike_Rate</th>\n",
       "      <th>Hundred_Scored</th>\n",
       "      <th>Fifties_Scored</th>\n",
       "      <th>0</th>\n",
       "      <th>Boundary_Fours</th>\n",
       "      <th>Boundary_Sixes</th>\n",
       "      <th>Country</th>\n",
       "    </tr>\n",
       "  </thead>\n",
       "  <tbody>\n",
       "    <tr>\n",
       "      <th>0</th>\n",
       "      <td>DG Bradman (AUS)</td>\n",
       "      <td>1928</td>\n",
       "      <td>1948</td>\n",
       "      <td>52</td>\n",
       "      <td>80.0</td>\n",
       "      <td>10.0</td>\n",
       "      <td>6996</td>\n",
       "      <td>334</td>\n",
       "      <td>99.94</td>\n",
       "      <td>9800+</td>\n",
       "      <td>58.60</td>\n",
       "      <td>29</td>\n",
       "      <td>13</td>\n",
       "      <td>7</td>\n",
       "      <td>626</td>\n",
       "      <td>6</td>\n",
       "      <td>AUS</td>\n",
       "    </tr>\n",
       "  </tbody>\n",
       "</table>\n",
       "</div>"
      ],
      "text/plain": [
       "             Player  Start_Year  End_Year Matches_Played  Inns  Not_Outs  \\\n",
       "0  DG Bradman (AUS)        1928      1948             52  80.0      10.0   \n",
       "\n",
       "   Runs Highest_Inn_Score  Batting_Average Balls_Faced Batting_Strike_Rate  \\\n",
       "0  6996               334            99.94       9800+               58.60   \n",
       "\n",
       "   Hundred_Scored  Fifties_Scored  0  Boundary_Fours  Boundary_Sixes Country  \n",
       "0              29              13  7             626               6     AUS  "
      ]
     },
     "execution_count": 24,
     "metadata": {},
     "output_type": "execute_result"
    }
   ],
   "source": [
    "df.head(1) #verifying results and now looking to remove country from Player column"
   ]
  },
  {
   "cell_type": "code",
   "execution_count": 25,
   "id": "267f4dc5",
   "metadata": {},
   "outputs": [],
   "source": [
    "df['Player']=df['Player'].str.split(pat='(').str[0] #removed country from Player column\n",
    "#doing this first would lead to problems trying to make country column using player column as country codes are gone"
   ]
  },
  {
   "cell_type": "code",
   "execution_count": 26,
   "id": "eb64947d",
   "metadata": {},
   "outputs": [
    {
     "data": {
      "text/html": [
       "<div>\n",
       "<style scoped>\n",
       "    .dataframe tbody tr th:only-of-type {\n",
       "        vertical-align: middle;\n",
       "    }\n",
       "\n",
       "    .dataframe tbody tr th {\n",
       "        vertical-align: top;\n",
       "    }\n",
       "\n",
       "    .dataframe thead th {\n",
       "        text-align: right;\n",
       "    }\n",
       "</style>\n",
       "<table border=\"1\" class=\"dataframe\">\n",
       "  <thead>\n",
       "    <tr style=\"text-align: right;\">\n",
       "      <th></th>\n",
       "      <th>Player</th>\n",
       "      <th>Start_Year</th>\n",
       "      <th>End_Year</th>\n",
       "      <th>Matches_Played</th>\n",
       "      <th>Inns</th>\n",
       "      <th>Not_Outs</th>\n",
       "      <th>Runs</th>\n",
       "      <th>Highest_Inn_Score</th>\n",
       "      <th>Batting_Average</th>\n",
       "      <th>Balls_Faced</th>\n",
       "      <th>Batting_Strike_Rate</th>\n",
       "      <th>Hundred_Scored</th>\n",
       "      <th>Fifties_Scored</th>\n",
       "      <th>0</th>\n",
       "      <th>Boundary_Fours</th>\n",
       "      <th>Boundary_Sixes</th>\n",
       "      <th>Country</th>\n",
       "    </tr>\n",
       "  </thead>\n",
       "  <tbody>\n",
       "    <tr>\n",
       "      <th>0</th>\n",
       "      <td>DG Bradman</td>\n",
       "      <td>1928</td>\n",
       "      <td>1948</td>\n",
       "      <td>52</td>\n",
       "      <td>80.0</td>\n",
       "      <td>10.0</td>\n",
       "      <td>6996</td>\n",
       "      <td>334</td>\n",
       "      <td>99.94</td>\n",
       "      <td>9800+</td>\n",
       "      <td>58.60</td>\n",
       "      <td>29</td>\n",
       "      <td>13</td>\n",
       "      <td>7</td>\n",
       "      <td>626</td>\n",
       "      <td>6</td>\n",
       "      <td>AUS</td>\n",
       "    </tr>\n",
       "    <tr>\n",
       "      <th>1</th>\n",
       "      <td>HC Brook</td>\n",
       "      <td>2022</td>\n",
       "      <td>2023</td>\n",
       "      <td>12</td>\n",
       "      <td>20.0</td>\n",
       "      <td>1.0</td>\n",
       "      <td>1181</td>\n",
       "      <td>186</td>\n",
       "      <td>62.15</td>\n",
       "      <td>1287</td>\n",
       "      <td>91.76</td>\n",
       "      <td>4</td>\n",
       "      <td>7</td>\n",
       "      <td>1</td>\n",
       "      <td>141</td>\n",
       "      <td>23</td>\n",
       "      <td>ENG</td>\n",
       "    </tr>\n",
       "    <tr>\n",
       "      <th>2</th>\n",
       "      <td>AC Voges</td>\n",
       "      <td>2015</td>\n",
       "      <td>2016</td>\n",
       "      <td>20</td>\n",
       "      <td>31.0</td>\n",
       "      <td>7.0</td>\n",
       "      <td>1485</td>\n",
       "      <td>269*</td>\n",
       "      <td>61.87</td>\n",
       "      <td>2667</td>\n",
       "      <td>55.68</td>\n",
       "      <td>5</td>\n",
       "      <td>4</td>\n",
       "      <td>2</td>\n",
       "      <td>186</td>\n",
       "      <td>5</td>\n",
       "      <td>AUS</td>\n",
       "    </tr>\n",
       "    <tr>\n",
       "      <th>3</th>\n",
       "      <td>RG Pollock</td>\n",
       "      <td>1963</td>\n",
       "      <td>1970</td>\n",
       "      <td>23</td>\n",
       "      <td>41.0</td>\n",
       "      <td>4.0</td>\n",
       "      <td>2256</td>\n",
       "      <td>274</td>\n",
       "      <td>60.97</td>\n",
       "      <td>1707+</td>\n",
       "      <td>54.48</td>\n",
       "      <td>7</td>\n",
       "      <td>11</td>\n",
       "      <td>1</td>\n",
       "      <td>246</td>\n",
       "      <td>11</td>\n",
       "      <td>SA</td>\n",
       "    </tr>\n",
       "    <tr>\n",
       "      <th>4</th>\n",
       "      <td>GA Headley</td>\n",
       "      <td>1930</td>\n",
       "      <td>1954</td>\n",
       "      <td>22</td>\n",
       "      <td>40.0</td>\n",
       "      <td>4.0</td>\n",
       "      <td>2190</td>\n",
       "      <td>270*</td>\n",
       "      <td>60.83</td>\n",
       "      <td>416+</td>\n",
       "      <td>56.00</td>\n",
       "      <td>10</td>\n",
       "      <td>5</td>\n",
       "      <td>2</td>\n",
       "      <td>104</td>\n",
       "      <td>1</td>\n",
       "      <td>WI</td>\n",
       "    </tr>\n",
       "  </tbody>\n",
       "</table>\n",
       "</div>"
      ],
      "text/plain": [
       "        Player  Start_Year  End_Year Matches_Played  Inns  Not_Outs  Runs  \\\n",
       "0  DG Bradman         1928      1948             52  80.0      10.0  6996   \n",
       "1    HC Brook         2022      2023             12  20.0       1.0  1181   \n",
       "2    AC Voges         2015      2016             20  31.0       7.0  1485   \n",
       "3  RG Pollock         1963      1970             23  41.0       4.0  2256   \n",
       "4  GA Headley         1930      1954             22  40.0       4.0  2190   \n",
       "\n",
       "  Highest_Inn_Score  Batting_Average Balls_Faced Batting_Strike_Rate  \\\n",
       "0               334            99.94       9800+               58.60   \n",
       "1               186            62.15        1287               91.76   \n",
       "2              269*            61.87        2667               55.68   \n",
       "3               274            60.97       1707+               54.48   \n",
       "4              270*            60.83        416+               56.00   \n",
       "\n",
       "   Hundred_Scored  Fifties_Scored  0  Boundary_Fours  Boundary_Sixes Country  \n",
       "0              29              13  7             626               6     AUS  \n",
       "1               4               7  1             141              23     ENG  \n",
       "2               5               4  2             186               5     AUS  \n",
       "3               7              11  1             246              11      SA  \n",
       "4              10               5  2             104               1      WI  "
      ]
     },
     "execution_count": 26,
     "metadata": {},
     "output_type": "execute_result"
    }
   ],
   "source": [
    "df.head(5)"
   ]
  },
  {
   "cell_type": "code",
   "execution_count": 27,
   "id": "65e03deb",
   "metadata": {},
   "outputs": [
    {
     "data": {
      "text/plain": [
       "Player                  object\n",
       "Start_Year               int64\n",
       "End_Year                 int64\n",
       "Matches_Played          object\n",
       "Inns                   float64\n",
       "Not_Outs               float64\n",
       "Runs                     int64\n",
       "Highest_Inn_Score       object\n",
       "Batting_Average        float64\n",
       "Balls_Faced             object\n",
       "Batting_Strike_Rate     object\n",
       "Hundred_Scored           int64\n",
       "Fifties_Scored           int64\n",
       "0                        int64\n",
       "Boundary_Fours           int64\n",
       "Boundary_Sixes           int64\n",
       "Country                 object\n",
       "dtype: object"
      ]
     },
     "execution_count": 27,
     "metadata": {},
     "output_type": "execute_result"
    }
   ],
   "source": [
    "#Task: Verify correct Datatypes per Column and Change if Needed\n",
    "df.dtypes"
   ]
  },
  {
   "cell_type": "code",
   "execution_count": 28,
   "id": "37e1e960",
   "metadata": {},
   "outputs": [],
   "source": [
    "#determining why columns that otherwise have numbers are listed as objects\n",
    "df['Matches_Played'].unique() #we see special characters like *\n",
    "df['Matches_Played'] = df['Matches_Played'].str.replace('*','')\n",
    "\n",
    "df['Highest_Inn_Score'].unique() #same issue\n",
    "df['Highest_Inn_Score'] = df['Highest_Inn_Score'].str.replace('*','')\n",
    "\n",
    "df['Batting_Strike_Rate'].unique() #we spot a special character as - which is to be a null\n",
    "df['Batting_Strike_Rate'] = df['Batting_Strike_Rate'].replace('-',np.nan)\n",
    "\n",
    "df['Balls_Faced'].unique() #unique character + plus missing value\n",
    "df['Balls_Faced'] =  df['Balls_Faced'].str.replace('+','')"
   ]
  },
  {
   "cell_type": "code",
   "execution_count": 29,
   "id": "9565fa5d",
   "metadata": {},
   "outputs": [
    {
     "data": {
      "text/plain": [
       "array(['9800', '1287', '2667', '1707', '416', '6558', '1288', '4957', nan,\n",
       "       '7491', '17977', '4063', '22882', '5363', '2844', '28903', '178',\n",
       "       '16052', '665', '1823', '13079', '108', '29437', '2644', '19753',\n",
       "       '15164', '31258', '14372', '19375', '22782', '2035', '10636',\n",
       "       '12436', '27395', '14184', '22461', '7614', '14349', '16077',\n",
       "       '27002', '9613', '2731', '22959', '20189', '16345', '488', '619',\n",
       "       '10441', '2445', '15924', '15456', '885', '158', '11641', '1799',\n",
       "       '8662', '15525', '3118', '3217', '2110'], dtype=object)"
      ]
     },
     "execution_count": 29,
     "metadata": {},
     "output_type": "execute_result"
    }
   ],
   "source": [
    "df['Balls_Faced'] = df['Balls_Faced'].replace('-',np.nan)\n",
    "df['Balls_Faced'].unique() "
   ]
  },
  {
   "cell_type": "code",
   "execution_count": 30,
   "id": "476bcfe5",
   "metadata": {},
   "outputs": [
    {
     "data": {
      "text/plain": [
       "\"\\nQuicker way/alternate way to do this:\\ndf = df.astype({'Start_Year':'int','End_Year':'int'...})\\n\""
      ]
     },
     "execution_count": 30,
     "metadata": {},
     "output_type": "execute_result"
    }
   ],
   "source": [
    "#converting column datatypes where they need to be fixed\n",
    "df['Matches_Played'] = df['Matches_Played'].astype(int)\n",
    "df['Highest_Inn_Score'] = df['Highest_Inn_Score'].astype(int)\n",
    "df['Batting_Strike_Rate'] = df['Batting_Strike_Rate'].astype(float)\n",
    "df['Balls_Faced'] = df['Balls_Faced'].astype(float)\n",
    "\n",
    "'''\n",
    "Alternate way to do this:\n",
    "df = df.astype({'Start_Year':'int','End_Year':'int'...})\n",
    "'''"
   ]
  },
  {
   "cell_type": "code",
   "execution_count": 31,
   "id": "2766d1b4",
   "metadata": {},
   "outputs": [
    {
     "data": {
      "text/plain": [
       "Player                  object\n",
       "Start_Year               int64\n",
       "End_Year                 int64\n",
       "Matches_Played           int32\n",
       "Inns                   float64\n",
       "Not_Outs               float64\n",
       "Runs                     int64\n",
       "Highest_Inn_Score        int32\n",
       "Batting_Average        float64\n",
       "Balls_Faced            float64\n",
       "Batting_Strike_Rate    float64\n",
       "Hundred_Scored           int64\n",
       "Fifties_Scored           int64\n",
       "0                        int64\n",
       "Boundary_Fours           int64\n",
       "Boundary_Sixes           int64\n",
       "Country                 object\n",
       "dtype: object"
      ]
     },
     "execution_count": 31,
     "metadata": {},
     "output_type": "execute_result"
    }
   ],
   "source": [
    "df.dtypes"
   ]
  },
  {
   "cell_type": "code",
   "execution_count": 32,
   "id": "970d4eb4",
   "metadata": {},
   "outputs": [
    {
     "data": {
      "text/html": [
       "<div>\n",
       "<style scoped>\n",
       "    .dataframe tbody tr th:only-of-type {\n",
       "        vertical-align: middle;\n",
       "    }\n",
       "\n",
       "    .dataframe tbody tr th {\n",
       "        vertical-align: top;\n",
       "    }\n",
       "\n",
       "    .dataframe thead th {\n",
       "        text-align: right;\n",
       "    }\n",
       "</style>\n",
       "<table border=\"1\" class=\"dataframe\">\n",
       "  <thead>\n",
       "    <tr style=\"text-align: right;\">\n",
       "      <th></th>\n",
       "      <th>Player</th>\n",
       "      <th>Start_Year</th>\n",
       "      <th>End_Year</th>\n",
       "      <th>Matches_Played</th>\n",
       "      <th>Inns</th>\n",
       "      <th>Not_Outs</th>\n",
       "      <th>Runs</th>\n",
       "      <th>Highest_Inn_Score</th>\n",
       "      <th>Batting_Average</th>\n",
       "      <th>Balls_Faced</th>\n",
       "      <th>Batting_Strike_Rate</th>\n",
       "      <th>Hundred_Scored</th>\n",
       "      <th>Fifties_Scored</th>\n",
       "      <th>0</th>\n",
       "      <th>Boundary_Fours</th>\n",
       "      <th>Boundary_Sixes</th>\n",
       "      <th>Country</th>\n",
       "    </tr>\n",
       "  </thead>\n",
       "  <tbody>\n",
       "    <tr>\n",
       "      <th>0</th>\n",
       "      <td>DG Bradman</td>\n",
       "      <td>1928</td>\n",
       "      <td>1948</td>\n",
       "      <td>52</td>\n",
       "      <td>80.0</td>\n",
       "      <td>10.0</td>\n",
       "      <td>6996</td>\n",
       "      <td>334</td>\n",
       "      <td>99.94</td>\n",
       "      <td>9800.0</td>\n",
       "      <td>58.60</td>\n",
       "      <td>29</td>\n",
       "      <td>13</td>\n",
       "      <td>7</td>\n",
       "      <td>626</td>\n",
       "      <td>6</td>\n",
       "      <td>AUS</td>\n",
       "    </tr>\n",
       "    <tr>\n",
       "      <th>1</th>\n",
       "      <td>HC Brook</td>\n",
       "      <td>2022</td>\n",
       "      <td>2023</td>\n",
       "      <td>12</td>\n",
       "      <td>20.0</td>\n",
       "      <td>1.0</td>\n",
       "      <td>1181</td>\n",
       "      <td>186</td>\n",
       "      <td>62.15</td>\n",
       "      <td>1287.0</td>\n",
       "      <td>91.76</td>\n",
       "      <td>4</td>\n",
       "      <td>7</td>\n",
       "      <td>1</td>\n",
       "      <td>141</td>\n",
       "      <td>23</td>\n",
       "      <td>ENG</td>\n",
       "    </tr>\n",
       "  </tbody>\n",
       "</table>\n",
       "</div>"
      ],
      "text/plain": [
       "        Player  Start_Year  End_Year  Matches_Played  Inns  Not_Outs  Runs  \\\n",
       "0  DG Bradman         1928      1948              52  80.0      10.0  6996   \n",
       "1    HC Brook         2022      2023              12  20.0       1.0  1181   \n",
       "\n",
       "   Highest_Inn_Score  Batting_Average  Balls_Faced  Batting_Strike_Rate  \\\n",
       "0                334            99.94       9800.0                58.60   \n",
       "1                186            62.15       1287.0                91.76   \n",
       "\n",
       "   Hundred_Scored  Fifties_Scored  0  Boundary_Fours  Boundary_Sixes Country  \n",
       "0              29              13  7             626               6     AUS  \n",
       "1               4               7  1             141              23     ENG  "
      ]
     },
     "execution_count": 32,
     "metadata": {},
     "output_type": "execute_result"
    }
   ],
   "source": [
    "df.head(2)"
   ]
  },
  {
   "cell_type": "code",
   "execution_count": 33,
   "id": "2a20c250",
   "metadata": {},
   "outputs": [],
   "source": [
    "#getting rid of new nan values\n",
    "df['Highest_Inn_Score']=df['Highest_Inn_Score'].fillna(df['Highest_Inn_Score'].mean())\n",
    "df['Batting_Strike_Rate']=df['Batting_Strike_Rate'].fillna(df['Batting_Strike_Rate'].mean())\n",
    "df['Balls_Faced']=df['Balls_Faced'].fillna(df['Balls_Faced'].mean())"
   ]
  },
  {
   "cell_type": "code",
   "execution_count": 34,
   "id": "455825ac",
   "metadata": {},
   "outputs": [
    {
     "data": {
      "text/plain": [
       "Player                 False\n",
       "Start_Year             False\n",
       "End_Year               False\n",
       "Matches_Played         False\n",
       "Inns                   False\n",
       "Not_Outs               False\n",
       "Runs                   False\n",
       "Highest_Inn_Score      False\n",
       "Batting_Average        False\n",
       "Balls_Faced            False\n",
       "Batting_Strike_Rate    False\n",
       "Hundred_Scored         False\n",
       "Fifties_Scored         False\n",
       "0                      False\n",
       "Boundary_Fours         False\n",
       "Boundary_Sixes         False\n",
       "Country                False\n",
       "dtype: bool"
      ]
     },
     "execution_count": 34,
     "metadata": {},
     "output_type": "execute_result"
    }
   ],
   "source": [
    "df.isnull().any()"
   ]
  },
  {
   "cell_type": "code",
   "execution_count": 35,
   "id": "21bbb822",
   "metadata": {},
   "outputs": [],
   "source": [
    "df['Balls_Faced']=df['Balls_Faced'].astype(int)"
   ]
  },
  {
   "cell_type": "code",
   "execution_count": 36,
   "id": "97eeba6a",
   "metadata": {},
   "outputs": [
    {
     "data": {
      "text/html": [
       "<div>\n",
       "<style scoped>\n",
       "    .dataframe tbody tr th:only-of-type {\n",
       "        vertical-align: middle;\n",
       "    }\n",
       "\n",
       "    .dataframe tbody tr th {\n",
       "        vertical-align: top;\n",
       "    }\n",
       "\n",
       "    .dataframe thead th {\n",
       "        text-align: right;\n",
       "    }\n",
       "</style>\n",
       "<table border=\"1\" class=\"dataframe\">\n",
       "  <thead>\n",
       "    <tr style=\"text-align: right;\">\n",
       "      <th></th>\n",
       "      <th>Player</th>\n",
       "      <th>Start_Year</th>\n",
       "      <th>End_Year</th>\n",
       "      <th>Years_Played</th>\n",
       "      <th>Matches_Played</th>\n",
       "      <th>Inns</th>\n",
       "      <th>Not_Outs</th>\n",
       "      <th>Runs</th>\n",
       "      <th>Highest_Inn_Score</th>\n",
       "      <th>Batting_Average</th>\n",
       "      <th>Balls_Faced</th>\n",
       "      <th>Batting_Strike_Rate</th>\n",
       "      <th>Hundred_Scored</th>\n",
       "      <th>Fifties_Scored</th>\n",
       "      <th>0</th>\n",
       "      <th>Boundary_Fours</th>\n",
       "      <th>Boundary_Sixes</th>\n",
       "      <th>Country</th>\n",
       "    </tr>\n",
       "  </thead>\n",
       "  <tbody>\n",
       "    <tr>\n",
       "      <th>0</th>\n",
       "      <td>DG Bradman</td>\n",
       "      <td>1928</td>\n",
       "      <td>1948</td>\n",
       "      <td>20</td>\n",
       "      <td>52</td>\n",
       "      <td>80.0</td>\n",
       "      <td>10.0</td>\n",
       "      <td>6996</td>\n",
       "      <td>334</td>\n",
       "      <td>99.94</td>\n",
       "      <td>9800</td>\n",
       "      <td>58.60</td>\n",
       "      <td>29</td>\n",
       "      <td>13</td>\n",
       "      <td>7</td>\n",
       "      <td>626</td>\n",
       "      <td>6</td>\n",
       "      <td>AUS</td>\n",
       "    </tr>\n",
       "    <tr>\n",
       "      <th>1</th>\n",
       "      <td>HC Brook</td>\n",
       "      <td>2022</td>\n",
       "      <td>2023</td>\n",
       "      <td>1</td>\n",
       "      <td>12</td>\n",
       "      <td>20.0</td>\n",
       "      <td>1.0</td>\n",
       "      <td>1181</td>\n",
       "      <td>186</td>\n",
       "      <td>62.15</td>\n",
       "      <td>1287</td>\n",
       "      <td>91.76</td>\n",
       "      <td>4</td>\n",
       "      <td>7</td>\n",
       "      <td>1</td>\n",
       "      <td>141</td>\n",
       "      <td>23</td>\n",
       "      <td>ENG</td>\n",
       "    </tr>\n",
       "    <tr>\n",
       "      <th>2</th>\n",
       "      <td>AC Voges</td>\n",
       "      <td>2015</td>\n",
       "      <td>2016</td>\n",
       "      <td>1</td>\n",
       "      <td>20</td>\n",
       "      <td>31.0</td>\n",
       "      <td>7.0</td>\n",
       "      <td>1485</td>\n",
       "      <td>269</td>\n",
       "      <td>61.87</td>\n",
       "      <td>2667</td>\n",
       "      <td>55.68</td>\n",
       "      <td>5</td>\n",
       "      <td>4</td>\n",
       "      <td>2</td>\n",
       "      <td>186</td>\n",
       "      <td>5</td>\n",
       "      <td>AUS</td>\n",
       "    </tr>\n",
       "  </tbody>\n",
       "</table>\n",
       "</div>"
      ],
      "text/plain": [
       "        Player  Start_Year  End_Year  Years_Played  Matches_Played  Inns  \\\n",
       "0  DG Bradman         1928      1948            20              52  80.0   \n",
       "1    HC Brook         2022      2023             1              12  20.0   \n",
       "2    AC Voges         2015      2016             1              20  31.0   \n",
       "\n",
       "   Not_Outs  Runs  Highest_Inn_Score  Batting_Average  Balls_Faced  \\\n",
       "0      10.0  6996                334            99.94         9800   \n",
       "1       1.0  1181                186            62.15         1287   \n",
       "2       7.0  1485                269            61.87         2667   \n",
       "\n",
       "   Batting_Strike_Rate  Hundred_Scored  Fifties_Scored  0  Boundary_Fours  \\\n",
       "0                58.60              29              13  7             626   \n",
       "1                91.76               4               7  1             141   \n",
       "2                55.68               5               4  2             186   \n",
       "\n",
       "   Boundary_Sixes Country  \n",
       "0               6     AUS  \n",
       "1              23     ENG  \n",
       "2               5     AUS  "
      ]
     },
     "execution_count": 36,
     "metadata": {},
     "output_type": "execute_result"
    }
   ],
   "source": [
    "#TASK: Create Career Length Column\n",
    "Years_Played= df['End_Year']-df['Start_Year']\n",
    "#df.pop('Years_Played') #removes column if already placed in df \n",
    "\n",
    "df.insert(df.columns.get_loc('End_Year')+1,'Years_Played',Years_Played) #placing new column after End Year\n",
    "df.head(3)\n",
    "    \n",
    "#Completed data cleaning can move into data analysis    \n"
   ]
  },
  {
   "cell_type": "code",
   "execution_count": 37,
   "id": "6187c269",
   "metadata": {},
   "outputs": [
    {
     "data": {
      "text/html": [
       "<div>\n",
       "<style scoped>\n",
       "    .dataframe tbody tr th:only-of-type {\n",
       "        vertical-align: middle;\n",
       "    }\n",
       "\n",
       "    .dataframe tbody tr th {\n",
       "        vertical-align: top;\n",
       "    }\n",
       "\n",
       "    .dataframe thead th {\n",
       "        text-align: right;\n",
       "    }\n",
       "</style>\n",
       "<table border=\"1\" class=\"dataframe\">\n",
       "  <thead>\n",
       "    <tr style=\"text-align: right;\">\n",
       "      <th></th>\n",
       "      <th>Player</th>\n",
       "      <th>Start_Year</th>\n",
       "      <th>End_Year</th>\n",
       "      <th>Years_Played</th>\n",
       "      <th>Matches_Played</th>\n",
       "      <th>Inns</th>\n",
       "      <th>Not_Outs</th>\n",
       "      <th>Runs</th>\n",
       "      <th>Highest_Inn_Score</th>\n",
       "      <th>Batting_Average</th>\n",
       "      <th>Balls_Faced</th>\n",
       "      <th>Batting_Strike_Rate</th>\n",
       "      <th>Hundred_Scored</th>\n",
       "      <th>Fifties_Scored</th>\n",
       "      <th>0s</th>\n",
       "      <th>Boundary_Fours</th>\n",
       "      <th>Boundary_Sixes</th>\n",
       "      <th>Country</th>\n",
       "    </tr>\n",
       "  </thead>\n",
       "  <tbody>\n",
       "    <tr>\n",
       "      <th>0</th>\n",
       "      <td>DG Bradman</td>\n",
       "      <td>1928</td>\n",
       "      <td>1948</td>\n",
       "      <td>20</td>\n",
       "      <td>52</td>\n",
       "      <td>80.0</td>\n",
       "      <td>10.0</td>\n",
       "      <td>6996</td>\n",
       "      <td>334</td>\n",
       "      <td>99.94</td>\n",
       "      <td>9800</td>\n",
       "      <td>58.60</td>\n",
       "      <td>29</td>\n",
       "      <td>13</td>\n",
       "      <td>7</td>\n",
       "      <td>626</td>\n",
       "      <td>6</td>\n",
       "      <td>AUS</td>\n",
       "    </tr>\n",
       "    <tr>\n",
       "      <th>1</th>\n",
       "      <td>HC Brook</td>\n",
       "      <td>2022</td>\n",
       "      <td>2023</td>\n",
       "      <td>1</td>\n",
       "      <td>12</td>\n",
       "      <td>20.0</td>\n",
       "      <td>1.0</td>\n",
       "      <td>1181</td>\n",
       "      <td>186</td>\n",
       "      <td>62.15</td>\n",
       "      <td>1287</td>\n",
       "      <td>91.76</td>\n",
       "      <td>4</td>\n",
       "      <td>7</td>\n",
       "      <td>1</td>\n",
       "      <td>141</td>\n",
       "      <td>23</td>\n",
       "      <td>ENG</td>\n",
       "    </tr>\n",
       "    <tr>\n",
       "      <th>2</th>\n",
       "      <td>AC Voges</td>\n",
       "      <td>2015</td>\n",
       "      <td>2016</td>\n",
       "      <td>1</td>\n",
       "      <td>20</td>\n",
       "      <td>31.0</td>\n",
       "      <td>7.0</td>\n",
       "      <td>1485</td>\n",
       "      <td>269</td>\n",
       "      <td>61.87</td>\n",
       "      <td>2667</td>\n",
       "      <td>55.68</td>\n",
       "      <td>5</td>\n",
       "      <td>4</td>\n",
       "      <td>2</td>\n",
       "      <td>186</td>\n",
       "      <td>5</td>\n",
       "      <td>AUS</td>\n",
       "    </tr>\n",
       "    <tr>\n",
       "      <th>3</th>\n",
       "      <td>RG Pollock</td>\n",
       "      <td>1963</td>\n",
       "      <td>1970</td>\n",
       "      <td>7</td>\n",
       "      <td>23</td>\n",
       "      <td>41.0</td>\n",
       "      <td>4.0</td>\n",
       "      <td>2256</td>\n",
       "      <td>274</td>\n",
       "      <td>60.97</td>\n",
       "      <td>1707</td>\n",
       "      <td>54.48</td>\n",
       "      <td>7</td>\n",
       "      <td>11</td>\n",
       "      <td>1</td>\n",
       "      <td>246</td>\n",
       "      <td>11</td>\n",
       "      <td>SA</td>\n",
       "    </tr>\n",
       "    <tr>\n",
       "      <th>4</th>\n",
       "      <td>GA Headley</td>\n",
       "      <td>1930</td>\n",
       "      <td>1954</td>\n",
       "      <td>24</td>\n",
       "      <td>22</td>\n",
       "      <td>40.0</td>\n",
       "      <td>4.0</td>\n",
       "      <td>2190</td>\n",
       "      <td>270</td>\n",
       "      <td>60.83</td>\n",
       "      <td>416</td>\n",
       "      <td>56.00</td>\n",
       "      <td>10</td>\n",
       "      <td>5</td>\n",
       "      <td>2</td>\n",
       "      <td>104</td>\n",
       "      <td>1</td>\n",
       "      <td>WI</td>\n",
       "    </tr>\n",
       "  </tbody>\n",
       "</table>\n",
       "</div>"
      ],
      "text/plain": [
       "        Player  Start_Year  End_Year  Years_Played  Matches_Played  Inns  \\\n",
       "0  DG Bradman         1928      1948            20              52  80.0   \n",
       "1    HC Brook         2022      2023             1              12  20.0   \n",
       "2    AC Voges         2015      2016             1              20  31.0   \n",
       "3  RG Pollock         1963      1970             7              23  41.0   \n",
       "4  GA Headley         1930      1954            24              22  40.0   \n",
       "\n",
       "   Not_Outs  Runs  Highest_Inn_Score  Batting_Average  Balls_Faced  \\\n",
       "0      10.0  6996                334            99.94         9800   \n",
       "1       1.0  1181                186            62.15         1287   \n",
       "2       7.0  1485                269            61.87         2667   \n",
       "3       4.0  2256                274            60.97         1707   \n",
       "4       4.0  2190                270            60.83          416   \n",
       "\n",
       "   Batting_Strike_Rate  Hundred_Scored  Fifties_Scored  0s  Boundary_Fours  \\\n",
       "0                58.60              29              13   7             626   \n",
       "1                91.76               4               7   1             141   \n",
       "2                55.68               5               4   2             186   \n",
       "3                54.48               7              11   1             246   \n",
       "4                56.00              10               5   2             104   \n",
       "\n",
       "   Boundary_Sixes Country  \n",
       "0               6     AUS  \n",
       "1              23     ENG  \n",
       "2               5     AUS  \n",
       "3              11      SA  \n",
       "4               1      WI  "
      ]
     },
     "execution_count": 37,
     "metadata": {},
     "output_type": "execute_result"
    }
   ],
   "source": [
    "#quick rename of column for further cleaning\n",
    "df = df.rename(columns={'0':'0s'})\n",
    "df.head()"
   ]
  },
  {
   "cell_type": "markdown",
   "id": "6aaeeba1",
   "metadata": {},
   "source": [
    "## Data Analysis (Descriptive Stats) "
   ]
  },
  {
   "cell_type": "code",
   "execution_count": 38,
   "id": "edeb41a7",
   "metadata": {},
   "outputs": [
    {
     "data": {
      "text/plain": [
       "Index(['Player', 'Start_Year', 'End_Year', 'Years_Played', 'Matches_Played',\n",
       "       'Inns', 'Not_Outs', 'Runs', 'Highest_Inn_Score', 'Batting_Average',\n",
       "       'Balls_Faced', 'Batting_Strike_Rate', 'Hundred_Scored',\n",
       "       'Fifties_Scored', '0s', 'Boundary_Fours', 'Boundary_Sixes', 'Country'],\n",
       "      dtype='object')"
      ]
     },
     "execution_count": 38,
     "metadata": {},
     "output_type": "execute_result"
    }
   ],
   "source": [
    "#TASK: Quick Data Overview\n",
    "df.columns"
   ]
  },
  {
   "cell_type": "code",
   "execution_count": 39,
   "id": "f5f4e10b",
   "metadata": {},
   "outputs": [
    {
     "data": {
      "text/plain": [
       "(62, 18)"
      ]
     },
     "execution_count": 39,
     "metadata": {},
     "output_type": "execute_result"
    }
   ],
   "source": [
    "df.shape #62 rows, 18 columns"
   ]
  },
  {
   "cell_type": "code",
   "execution_count": 40,
   "id": "03fe50d1",
   "metadata": {},
   "outputs": [
    {
     "data": {
      "text/plain": [
       "1116"
      ]
     },
     "execution_count": 40,
     "metadata": {},
     "output_type": "execute_result"
    }
   ],
   "source": [
    "df.size #number of records in total db"
   ]
  },
  {
   "cell_type": "code",
   "execution_count": 41,
   "id": "3e6e52a4",
   "metadata": {},
   "outputs": [
    {
     "name": "stdout",
     "output_type": "stream",
     "text": [
      "<class 'pandas.core.frame.DataFrame'>\n",
      "Index: 62 entries, 0 to 62\n",
      "Data columns (total 18 columns):\n",
      " #   Column               Non-Null Count  Dtype  \n",
      "---  ------               --------------  -----  \n",
      " 0   Player               62 non-null     object \n",
      " 1   Start_Year           62 non-null     int64  \n",
      " 2   End_Year             62 non-null     int64  \n",
      " 3   Years_Played         62 non-null     int64  \n",
      " 4   Matches_Played       62 non-null     int32  \n",
      " 5   Inns                 62 non-null     float64\n",
      " 6   Not_Outs             62 non-null     float64\n",
      " 7   Runs                 62 non-null     int64  \n",
      " 8   Highest_Inn_Score    62 non-null     int32  \n",
      " 9   Batting_Average      62 non-null     float64\n",
      " 10  Balls_Faced          62 non-null     int32  \n",
      " 11  Batting_Strike_Rate  62 non-null     float64\n",
      " 12  Hundred_Scored       62 non-null     int64  \n",
      " 13  Fifties_Scored       62 non-null     int64  \n",
      " 14  0s                   62 non-null     int64  \n",
      " 15  Boundary_Fours       62 non-null     int64  \n",
      " 16  Boundary_Sixes       62 non-null     int64  \n",
      " 17  Country              62 non-null     object \n",
      "dtypes: float64(4), int32(3), int64(9), object(2)\n",
      "memory usage: 8.5+ KB\n"
     ]
    }
   ],
   "source": [
    "df.info() #shows non-null and datatypes of each series"
   ]
  },
  {
   "cell_type": "code",
   "execution_count": 42,
   "id": "f1044b8a",
   "metadata": {},
   "outputs": [
    {
     "data": {
      "text/html": [
       "<div>\n",
       "<style scoped>\n",
       "    .dataframe tbody tr th:only-of-type {\n",
       "        vertical-align: middle;\n",
       "    }\n",
       "\n",
       "    .dataframe tbody tr th {\n",
       "        vertical-align: top;\n",
       "    }\n",
       "\n",
       "    .dataframe thead th {\n",
       "        text-align: right;\n",
       "    }\n",
       "</style>\n",
       "<table border=\"1\" class=\"dataframe\">\n",
       "  <thead>\n",
       "    <tr style=\"text-align: right;\">\n",
       "      <th></th>\n",
       "      <th>Start_Year</th>\n",
       "      <th>End_Year</th>\n",
       "      <th>Years_Played</th>\n",
       "      <th>Matches_Played</th>\n",
       "      <th>Inns</th>\n",
       "      <th>Not_Outs</th>\n",
       "      <th>Runs</th>\n",
       "      <th>Highest_Inn_Score</th>\n",
       "      <th>Batting_Average</th>\n",
       "      <th>Balls_Faced</th>\n",
       "      <th>Batting_Strike_Rate</th>\n",
       "      <th>Hundred_Scored</th>\n",
       "      <th>Fifties_Scored</th>\n",
       "      <th>0s</th>\n",
       "      <th>Boundary_Fours</th>\n",
       "      <th>Boundary_Sixes</th>\n",
       "    </tr>\n",
       "  </thead>\n",
       "  <tbody>\n",
       "    <tr>\n",
       "      <th>count</th>\n",
       "      <td>62.000000</td>\n",
       "      <td>62.000000</td>\n",
       "      <td>62.000000</td>\n",
       "      <td>62.000000</td>\n",
       "      <td>62.000000</td>\n",
       "      <td>62.000000</td>\n",
       "      <td>62.000000</td>\n",
       "      <td>62.000000</td>\n",
       "      <td>62.000000</td>\n",
       "      <td>62.000000</td>\n",
       "      <td>62.000000</td>\n",
       "      <td>62.000000</td>\n",
       "      <td>62.000000</td>\n",
       "      <td>62.000000</td>\n",
       "      <td>62.000000</td>\n",
       "      <td>62.000000</td>\n",
       "    </tr>\n",
       "    <tr>\n",
       "      <th>mean</th>\n",
       "      <td>1971.016129</td>\n",
       "      <td>1984.177419</td>\n",
       "      <td>13.161290</td>\n",
       "      <td>80.080645</td>\n",
       "      <td>137.549428</td>\n",
       "      <td>13.984391</td>\n",
       "      <td>6419.758065</td>\n",
       "      <td>249.177419</td>\n",
       "      <td>53.681129</td>\n",
       "      <td>10566.209677</td>\n",
       "      <td>49.932881</td>\n",
       "      <td>19.306452</td>\n",
       "      <td>28.596774</td>\n",
       "      <td>7.806452</td>\n",
       "      <td>652.435484</td>\n",
       "      <td>27.306452</td>\n",
       "    </tr>\n",
       "    <tr>\n",
       "      <th>std</th>\n",
       "      <td>34.838029</td>\n",
       "      <td>33.857718</td>\n",
       "      <td>5.610861</td>\n",
       "      <td>50.819287</td>\n",
       "      <td>85.183269</td>\n",
       "      <td>11.120050</td>\n",
       "      <td>4012.932012</td>\n",
       "      <td>61.501572</td>\n",
       "      <td>7.195703</td>\n",
       "      <td>8829.343449</td>\n",
       "      <td>11.288337</td>\n",
       "      <td>12.318969</td>\n",
       "      <td>18.626140</td>\n",
       "      <td>5.536285</td>\n",
       "      <td>522.424161</td>\n",
       "      <td>27.147797</td>\n",
       "    </tr>\n",
       "    <tr>\n",
       "      <th>min</th>\n",
       "      <td>1893.000000</td>\n",
       "      <td>1905.000000</td>\n",
       "      <td>1.000000</td>\n",
       "      <td>12.000000</td>\n",
       "      <td>20.000000</td>\n",
       "      <td>1.000000</td>\n",
       "      <td>990.000000</td>\n",
       "      <td>122.000000</td>\n",
       "      <td>48.000000</td>\n",
       "      <td>108.000000</td>\n",
       "      <td>25.590000</td>\n",
       "      <td>1.000000</td>\n",
       "      <td>3.000000</td>\n",
       "      <td>1.000000</td>\n",
       "      <td>37.000000</td>\n",
       "      <td>0.000000</td>\n",
       "    </tr>\n",
       "    <tr>\n",
       "      <th>25%</th>\n",
       "      <td>1937.000000</td>\n",
       "      <td>1955.500000</td>\n",
       "      <td>10.000000</td>\n",
       "      <td>30.250000</td>\n",
       "      <td>62.000000</td>\n",
       "      <td>5.250000</td>\n",
       "      <td>2379.000000</td>\n",
       "      <td>205.500000</td>\n",
       "      <td>49.510000</td>\n",
       "      <td>2494.750000</td>\n",
       "      <td>43.447500</td>\n",
       "      <td>7.250000</td>\n",
       "      <td>11.500000</td>\n",
       "      <td>3.000000</td>\n",
       "      <td>145.000000</td>\n",
       "      <td>5.250000</td>\n",
       "    </tr>\n",
       "    <tr>\n",
       "      <th>50%</th>\n",
       "      <td>1977.000000</td>\n",
       "      <td>1993.500000</td>\n",
       "      <td>14.000000</td>\n",
       "      <td>79.000000</td>\n",
       "      <td>137.000000</td>\n",
       "      <td>12.000000</td>\n",
       "      <td>6520.500000</td>\n",
       "      <td>245.000000</td>\n",
       "      <td>51.735000</td>\n",
       "      <td>10120.500000</td>\n",
       "      <td>50.031441</td>\n",
       "      <td>19.500000</td>\n",
       "      <td>28.500000</td>\n",
       "      <td>7.000000</td>\n",
       "      <td>567.000000</td>\n",
       "      <td>20.500000</td>\n",
       "    </tr>\n",
       "    <tr>\n",
       "      <th>75%</th>\n",
       "      <td>2000.000000</td>\n",
       "      <td>2013.750000</td>\n",
       "      <td>17.000000</td>\n",
       "      <td>117.750000</td>\n",
       "      <td>196.250000</td>\n",
       "      <td>18.750000</td>\n",
       "      <td>8844.000000</td>\n",
       "      <td>277.750000</td>\n",
       "      <td>56.345000</td>\n",
       "      <td>16020.000000</td>\n",
       "      <td>55.397500</td>\n",
       "      <td>29.000000</td>\n",
       "      <td>42.500000</td>\n",
       "      <td>12.000000</td>\n",
       "      <td>1054.250000</td>\n",
       "      <td>42.000000</td>\n",
       "    </tr>\n",
       "    <tr>\n",
       "      <th>max</th>\n",
       "      <td>2022.000000</td>\n",
       "      <td>2024.000000</td>\n",
       "      <td>24.000000</td>\n",
       "      <td>200.000000</td>\n",
       "      <td>329.000000</td>\n",
       "      <td>49.000000</td>\n",
       "      <td>15921.000000</td>\n",
       "      <td>400.000000</td>\n",
       "      <td>99.940000</td>\n",
       "      <td>31258.000000</td>\n",
       "      <td>91.760000</td>\n",
       "      <td>51.000000</td>\n",
       "      <td>68.000000</td>\n",
       "      <td>22.000000</td>\n",
       "      <td>2058.000000</td>\n",
       "      <td>97.000000</td>\n",
       "    </tr>\n",
       "  </tbody>\n",
       "</table>\n",
       "</div>"
      ],
      "text/plain": [
       "        Start_Year     End_Year  Years_Played  Matches_Played        Inns  \\\n",
       "count    62.000000    62.000000     62.000000       62.000000   62.000000   \n",
       "mean   1971.016129  1984.177419     13.161290       80.080645  137.549428   \n",
       "std      34.838029    33.857718      5.610861       50.819287   85.183269   \n",
       "min    1893.000000  1905.000000      1.000000       12.000000   20.000000   \n",
       "25%    1937.000000  1955.500000     10.000000       30.250000   62.000000   \n",
       "50%    1977.000000  1993.500000     14.000000       79.000000  137.000000   \n",
       "75%    2000.000000  2013.750000     17.000000      117.750000  196.250000   \n",
       "max    2022.000000  2024.000000     24.000000      200.000000  329.000000   \n",
       "\n",
       "        Not_Outs          Runs  Highest_Inn_Score  Batting_Average  \\\n",
       "count  62.000000     62.000000          62.000000        62.000000   \n",
       "mean   13.984391   6419.758065         249.177419        53.681129   \n",
       "std    11.120050   4012.932012          61.501572         7.195703   \n",
       "min     1.000000    990.000000         122.000000        48.000000   \n",
       "25%     5.250000   2379.000000         205.500000        49.510000   \n",
       "50%    12.000000   6520.500000         245.000000        51.735000   \n",
       "75%    18.750000   8844.000000         277.750000        56.345000   \n",
       "max    49.000000  15921.000000         400.000000        99.940000   \n",
       "\n",
       "        Balls_Faced  Batting_Strike_Rate  Hundred_Scored  Fifties_Scored  \\\n",
       "count     62.000000            62.000000       62.000000       62.000000   \n",
       "mean   10566.209677            49.932881       19.306452       28.596774   \n",
       "std     8829.343449            11.288337       12.318969       18.626140   \n",
       "min      108.000000            25.590000        1.000000        3.000000   \n",
       "25%     2494.750000            43.447500        7.250000       11.500000   \n",
       "50%    10120.500000            50.031441       19.500000       28.500000   \n",
       "75%    16020.000000            55.397500       29.000000       42.500000   \n",
       "max    31258.000000            91.760000       51.000000       68.000000   \n",
       "\n",
       "              0s  Boundary_Fours  Boundary_Sixes  \n",
       "count  62.000000       62.000000       62.000000  \n",
       "mean    7.806452      652.435484       27.306452  \n",
       "std     5.536285      522.424161       27.147797  \n",
       "min     1.000000       37.000000        0.000000  \n",
       "25%     3.000000      145.000000        5.250000  \n",
       "50%     7.000000      567.000000       20.500000  \n",
       "75%    12.000000     1054.250000       42.000000  \n",
       "max    22.000000     2058.000000       97.000000  "
      ]
     },
     "execution_count": 42,
     "metadata": {},
     "output_type": "execute_result"
    }
   ],
   "source": [
    "#checking for outliers and summary stats\n",
    "df.describe()\n"
   ]
  },
  {
   "cell_type": "code",
   "execution_count": 43,
   "id": "34899094",
   "metadata": {},
   "outputs": [
    {
     "data": {
      "text/plain": [
       "<matplotlib.collections.PathCollection at 0x28065cd0a10>"
      ]
     },
     "execution_count": 43,
     "metadata": {},
     "output_type": "execute_result"
    },
    {
     "data": {
      "image/png": "[encoded data removed]",
      "text/plain": [
       "<Figure size 640x480 with 1 Axes>"
      ]
     },
     "metadata": {},
     "output_type": "display_data"
    }
   ],
   "source": [
    "#Identifying outliers using scatterplot\n",
    "plt.scatter(range(len(df['Runs'])),df['Runs'])\n"
   ]
  },
  {
   "cell_type": "code",
   "execution_count": 44,
   "id": "56e1a731",
   "metadata": {},
   "outputs": [
    {
     "data": {
      "text/plain": [
       "{'whiskers': [<matplotlib.lines.Line2D at 0x2806530ac90>,\n",
       "  <matplotlib.lines.Line2D at 0x28066569e90>],\n",
       " 'caps': [<matplotlib.lines.Line2D at 0x28065cf2b10>,\n",
       "  <matplotlib.lines.Line2D at 0x2806656b550>],\n",
       " 'boxes': [<matplotlib.lines.Line2D at 0x28066559dd0>],\n",
       " 'medians': [<matplotlib.lines.Line2D at 0x28066570050>],\n",
       " 'fliers': [<matplotlib.lines.Line2D at 0x28066570a90>],\n",
       " 'means': []}"
      ]
     },
     "execution_count": 44,
     "metadata": {},
     "output_type": "execute_result"
    },
    {
     "data": {
      "image/png": "[encoded data removed]",
      "text/plain": [
       "<Figure size 640x480 with 1 Axes>"
      ]
     },
     "metadata": {},
     "output_type": "display_data"
    }
   ],
   "source": [
    "#Using boxplot\n",
    "plt.boxplot(df['Runs'])"
   ]
  },
  {
   "cell_type": "code",
   "execution_count": 45,
   "id": "676f5414",
   "metadata": {},
   "outputs": [
    {
     "data": {
      "text/plain": [
       "(array([16., 13., 11., 11.,  3.,  2.,  2.,  0.,  2.,  2.]),\n",
       " array([ 1. ,  5.8, 10.6, 15.4, 20.2, 25. , 29.8, 34.6, 39.4, 44.2, 49. ]),\n",
       " <BarContainer object of 10 artists>)"
      ]
     },
     "execution_count": 45,
     "metadata": {},
     "output_type": "execute_result"
    },
    {
     "data": {
      "image/png": "[encoded data removed]",
      "text/plain": [
       "<Figure size 640x480 with 1 Axes>"
      ]
     },
     "metadata": {},
     "output_type": "display_data"
    }
   ],
   "source": [
    "#Using Histogram \n",
    "plt.hist(df['Not_Outs']) #we see data is right skewed here with most data in left hand"
   ]
  },
  {
   "cell_type": "code",
   "execution_count": 46,
   "id": "dadeeed5",
   "metadata": {},
   "outputs": [
    {
     "data": {
      "text/plain": [
       "0    -0.361232\n",
       "1    -1.177188\n",
       "2    -0.633217\n",
       "3    -0.905203\n",
       "4    -0.905203\n",
       "5    -0.451894\n",
       "6    -0.814541\n",
       "7     0.092077\n",
       "8    -0.814541\n",
       "9     0.182739\n",
       "10    0.998695\n",
       "11    0.636048\n",
       "12    0.273400\n",
       "14   -0.633217\n",
       "15   -0.633217\n",
       "16    0.092077\n",
       "17    2.358621\n",
       "18   -1.086526\n",
       "19    0.182739\n",
       "20   -0.814541\n",
       "21   -1.177188\n",
       "22    0.454724\n",
       "23   -0.633217\n",
       "24    1.723989\n",
       "25   -0.905203\n",
       "26   -0.723879\n",
       "27    0.004340\n",
       "28    1.633327\n",
       "29   -0.179908\n",
       "30    0.454724\n",
       "31    1.361342\n",
       "32   -0.814541\n",
       "33    0.454724\n",
       "34    0.182739\n",
       "35    3.174577\n",
       "36    0.182739\n",
       "37    2.902592\n",
       "38   -0.633217\n",
       "39    0.001415\n",
       "40    0.364062\n",
       "41    2.721268\n",
       "42   -0.179908\n",
       "43    0.092077\n",
       "44    0.092077\n",
       "45    0.545386\n",
       "46    0.726709\n",
       "47   -0.451894\n",
       "48   -1.086526\n",
       "49   -0.723879\n",
       "50   -1.086526\n",
       "51   -0.270570\n",
       "52    0.726709\n",
       "53   -0.814541\n",
       "54   -0.451894\n",
       "55   -0.905203\n",
       "56    0.545386\n",
       "57   -0.361232\n",
       "58    0.001415\n",
       "59   -0.089247\n",
       "60   -0.905203\n",
       "61   -0.814541\n",
       "62   -0.723879\n",
       "Name: Not_Outs, dtype: float64"
      ]
     },
     "execution_count": 46,
     "metadata": {},
     "output_type": "execute_result"
    }
   ],
   "source": [
    "pd.set_option('display.max_rows',None) #shows us all rows\n",
    "zscore(df['Not_Outs']) #identifying Z scores above 2 and below -2"
   ]
  },
  {
   "cell_type": "code",
   "execution_count": 47,
   "id": "6e710a3f",
   "metadata": {},
   "outputs": [
    {
     "data": {
      "text/plain": [
       "Player                 S Chanderpaul \n",
       "Start_Year                       1994\n",
       "End_Year                         2015\n",
       "Years_Played                       21\n",
       "Matches_Played                    164\n",
       "Inns                            280.0\n",
       "Not_Outs                         49.0\n",
       "Runs                            11867\n",
       "Highest_Inn_Score                 203\n",
       "Batting_Average                 51.37\n",
       "Balls_Faced                     27395\n",
       "Batting_Strike_Rate             43.31\n",
       "Hundred_Scored                     30\n",
       "Fifties_Scored                     66\n",
       "0s                                 15\n",
       "Boundary_Fours                   1285\n",
       "Boundary_Sixes                     36\n",
       "Country                            WI\n",
       "Name: 35, dtype: object"
      ]
     },
     "execution_count": 47,
     "metadata": {},
     "output_type": "execute_result"
    }
   ],
   "source": [
    "#Using Z Scores above 2 or below -2 to find outliers\n",
    "df.loc[35] #locating outlier based on locations of above query"
   ]
  },
  {
   "cell_type": "code",
   "execution_count": 48,
   "id": "28646f45",
   "metadata": {},
   "outputs": [],
   "source": [
    "#Deciding to keep outliers as with domain knowledge and consideration of players stats they outliers are not too\n",
    "#far from rest of data and not too wide to influence data"
   ]
  },
  {
   "cell_type": "markdown",
   "id": "a3dfc5e2",
   "metadata": {},
   "source": [
    "## Data Discovery"
   ]
  },
  {
   "cell_type": "code",
   "execution_count": 49,
   "id": "caf4f0a9",
   "metadata": {},
   "outputs": [],
   "source": [
    "#Answering Questions:"
   ]
  },
  {
   "cell_type": "code",
   "execution_count": 50,
   "id": "8ec7c9bf",
   "metadata": {},
   "outputs": [],
   "source": [
    "#TASK: What is the average career length of Cricketers?\n",
    "avg_career = df['Years_Played'].mean()\n",
    "#13 years"
   ]
  },
  {
   "cell_type": "code",
   "execution_count": 51,
   "id": "75f6ee0a",
   "metadata": {},
   "outputs": [
    {
     "data": {
      "text/plain": [
       "49.992524341868005"
      ]
     },
     "execution_count": 51,
     "metadata": {},
     "output_type": "execute_result"
    }
   ],
   "source": [
    "#TASK: Average Batting Strike Rate for Cricketers Who Played 10+ Years?\n",
    "df[df['Years_Played']>=10]['Batting_Strike_Rate'].mean()\n",
    "#50 "
   ]
  },
  {
   "cell_type": "code",
   "execution_count": 52,
   "id": "0a09dc58",
   "metadata": {},
   "outputs": [
    {
     "data": {
      "text/html": [
       "<div>\n",
       "<style scoped>\n",
       "    .dataframe tbody tr th:only-of-type {\n",
       "        vertical-align: middle;\n",
       "    }\n",
       "\n",
       "    .dataframe tbody tr th {\n",
       "        vertical-align: top;\n",
       "    }\n",
       "\n",
       "    .dataframe thead th {\n",
       "        text-align: right;\n",
       "    }\n",
       "</style>\n",
       "<table border=\"1\" class=\"dataframe\">\n",
       "  <thead>\n",
       "    <tr style=\"text-align: right;\">\n",
       "      <th></th>\n",
       "      <th>Player</th>\n",
       "      <th>Start_Year</th>\n",
       "      <th>End_Year</th>\n",
       "    </tr>\n",
       "  </thead>\n",
       "  <tbody>\n",
       "    <tr>\n",
       "      <th>55</th>\n",
       "      <td>Hon.FS Jackson</td>\n",
       "      <td>1893</td>\n",
       "      <td>1905</td>\n",
       "    </tr>\n",
       "    <tr>\n",
       "      <th>48</th>\n",
       "      <td>CP Mead</td>\n",
       "      <td>1911</td>\n",
       "      <td>1928</td>\n",
       "    </tr>\n",
       "    <tr>\n",
       "      <th>18</th>\n",
       "      <td>GE Tyldesley</td>\n",
       "      <td>1921</td>\n",
       "      <td>1929</td>\n",
       "    </tr>\n",
       "    <tr>\n",
       "      <th>32</th>\n",
       "      <td>J Ryder</td>\n",
       "      <td>1920</td>\n",
       "      <td>1929</td>\n",
       "    </tr>\n",
       "    <tr>\n",
       "      <th>14</th>\n",
       "      <td>JB Hobbs</td>\n",
       "      <td>1908</td>\n",
       "      <td>1930</td>\n",
       "    </tr>\n",
       "    <tr>\n",
       "      <th>60</th>\n",
       "      <td>WH Ponsford</td>\n",
       "      <td>1924</td>\n",
       "      <td>1934</td>\n",
       "    </tr>\n",
       "    <tr>\n",
       "      <th>62</th>\n",
       "      <td>DR Jardine</td>\n",
       "      <td>1928</td>\n",
       "      <td>1934</td>\n",
       "    </tr>\n",
       "    <tr>\n",
       "      <th>5</th>\n",
       "      <td>H Sutcliffe</td>\n",
       "      <td>1924</td>\n",
       "      <td>1935</td>\n",
       "    </tr>\n",
       "    <tr>\n",
       "      <th>61</th>\n",
       "      <td>SJ McCabe</td>\n",
       "      <td>1930</td>\n",
       "      <td>1938</td>\n",
       "    </tr>\n",
       "    <tr>\n",
       "      <th>6</th>\n",
       "      <td>E Paynter</td>\n",
       "      <td>1931</td>\n",
       "      <td>1939</td>\n",
       "    </tr>\n",
       "    <tr>\n",
       "      <th>9</th>\n",
       "      <td>WR Hammond</td>\n",
       "      <td>1927</td>\n",
       "      <td>1947</td>\n",
       "    </tr>\n",
       "    <tr>\n",
       "      <th>0</th>\n",
       "      <td>DG Bradman</td>\n",
       "      <td>1928</td>\n",
       "      <td>1948</td>\n",
       "    </tr>\n",
       "    <tr>\n",
       "      <th>54</th>\n",
       "      <td>B Mitchell</td>\n",
       "      <td>1929</td>\n",
       "      <td>1949</td>\n",
       "    </tr>\n",
       "    <tr>\n",
       "      <th>23</th>\n",
       "      <td>AD Nourse</td>\n",
       "      <td>1935</td>\n",
       "      <td>1951</td>\n",
       "    </tr>\n",
       "    <tr>\n",
       "      <th>4</th>\n",
       "      <td>GA Headley</td>\n",
       "      <td>1930</td>\n",
       "      <td>1954</td>\n",
       "    </tr>\n",
       "    <tr>\n",
       "      <th>16</th>\n",
       "      <td>L Hutton</td>\n",
       "      <td>1937</td>\n",
       "      <td>1955</td>\n",
       "    </tr>\n",
       "    <tr>\n",
       "      <th>43</th>\n",
       "      <td>DCS Compton</td>\n",
       "      <td>1937</td>\n",
       "      <td>1957</td>\n",
       "    </tr>\n",
       "    <tr>\n",
       "      <th>8</th>\n",
       "      <td>ED Weekes</td>\n",
       "      <td>1948</td>\n",
       "      <td>1958</td>\n",
       "    </tr>\n",
       "  </tbody>\n",
       "</table>\n",
       "</div>"
      ],
      "text/plain": [
       "             Player  Start_Year  End_Year\n",
       "55  Hon.FS Jackson         1893      1905\n",
       "48         CP Mead         1911      1928\n",
       "18    GE Tyldesley         1921      1929\n",
       "32         J Ryder         1920      1929\n",
       "14        JB Hobbs         1908      1930\n",
       "60     WH Ponsford         1924      1934\n",
       "62      DR Jardine         1928      1934\n",
       "5      H Sutcliffe         1924      1935\n",
       "61       SJ McCabe         1930      1938\n",
       "6        E Paynter         1931      1939\n",
       "9       WR Hammond         1927      1947\n",
       "0       DG Bradman         1928      1948\n",
       "54      B Mitchell         1929      1949\n",
       "23       AD Nourse         1935      1951\n",
       "4       GA Headley         1930      1954\n",
       "16        L Hutton         1937      1955\n",
       "43     DCS Compton         1937      1957\n",
       "8        ED Weekes         1948      1958"
      ]
     },
     "execution_count": 52,
     "metadata": {},
     "output_type": "execute_result"
    }
   ],
   "source": [
    "#Task: Number of Cricketers Who Played Before 1960\n",
    "df[df['End_Year']<1960]['Player'].count()\n",
    "#18 players\n",
    "df[df['End_Year']<1960][['Player','Start_Year','End_Year']].sort_values('End_Year') #shows list of those players"
   ]
  },
  {
   "cell_type": "code",
   "execution_count": 53,
   "id": "1a81427a",
   "metadata": {},
   "outputs": [
    {
     "data": {
      "text/html": [
       "<div>\n",
       "<style scoped>\n",
       "    .dataframe tbody tr th:only-of-type {\n",
       "        vertical-align: middle;\n",
       "    }\n",
       "\n",
       "    .dataframe tbody tr th {\n",
       "        vertical-align: top;\n",
       "    }\n",
       "\n",
       "    .dataframe thead th {\n",
       "        text-align: right;\n",
       "    }\n",
       "</style>\n",
       "<table border=\"1\" class=\"dataframe\">\n",
       "  <thead>\n",
       "    <tr style=\"text-align: right;\">\n",
       "      <th></th>\n",
       "      <th>Country</th>\n",
       "      <th>HighestInnPerCountry</th>\n",
       "    </tr>\n",
       "  </thead>\n",
       "  <tbody>\n",
       "    <tr>\n",
       "      <th>5</th>\n",
       "      <td>ICC/WI</td>\n",
       "      <td>400</td>\n",
       "    </tr>\n",
       "    <tr>\n",
       "      <th>0</th>\n",
       "      <td>AUS</td>\n",
       "      <td>380</td>\n",
       "    </tr>\n",
       "    <tr>\n",
       "      <th>10</th>\n",
       "      <td>SL</td>\n",
       "      <td>374</td>\n",
       "    </tr>\n",
       "    <tr>\n",
       "      <th>11</th>\n",
       "      <td>WI</td>\n",
       "      <td>365</td>\n",
       "    </tr>\n",
       "    <tr>\n",
       "      <th>1</th>\n",
       "      <td>ENG</td>\n",
       "      <td>364</td>\n",
       "    </tr>\n",
       "    <tr>\n",
       "      <th>3</th>\n",
       "      <td>ICC/PAK</td>\n",
       "      <td>329</td>\n",
       "    </tr>\n",
       "    <tr>\n",
       "      <th>2</th>\n",
       "      <td>ICC/IND</td>\n",
       "      <td>319</td>\n",
       "    </tr>\n",
       "    <tr>\n",
       "      <th>8</th>\n",
       "      <td>PAK</td>\n",
       "      <td>313</td>\n",
       "    </tr>\n",
       "    <tr>\n",
       "      <th>9</th>\n",
       "      <td>SA</td>\n",
       "      <td>278</td>\n",
       "    </tr>\n",
       "    <tr>\n",
       "      <th>4</th>\n",
       "      <td>ICC/SA</td>\n",
       "      <td>277</td>\n",
       "    </tr>\n",
       "    <tr>\n",
       "      <th>6</th>\n",
       "      <td>IND</td>\n",
       "      <td>254</td>\n",
       "    </tr>\n",
       "    <tr>\n",
       "      <th>7</th>\n",
       "      <td>NZ</td>\n",
       "      <td>251</td>\n",
       "    </tr>\n",
       "    <tr>\n",
       "      <th>12</th>\n",
       "      <td>ZIM</td>\n",
       "      <td>232</td>\n",
       "    </tr>\n",
       "  </tbody>\n",
       "</table>\n",
       "</div>"
      ],
      "text/plain": [
       "    Country  HighestInnPerCountry\n",
       "5    ICC/WI                   400\n",
       "0       AUS                   380\n",
       "10       SL                   374\n",
       "11       WI                   365\n",
       "1       ENG                   364\n",
       "3   ICC/PAK                   329\n",
       "2   ICC/IND                   319\n",
       "8       PAK                   313\n",
       "9        SA                   278\n",
       "4    ICC/SA                   277\n",
       "6       IND                   254\n",
       "7        NZ                   251\n",
       "12      ZIM                   232"
      ]
     },
     "execution_count": 53,
     "metadata": {},
     "output_type": "execute_result"
    }
   ],
   "source": [
    "#Task: Find Max Highest Inn Scores by Country\n",
    "df['Country'].unique() #verifying no errors in entry exist, we notice icc has the same countries\n",
    "df[df['Country'].isin(['ICC/PAK','PAK'])] \n",
    "#Note: we will be leaving ICC teams as is due to them potentially having players\n",
    "#from outside of Pakistan as that is normal in ICC rules, we will be considering stats from the countries themselves as\n",
    "#standalone\n",
    "\n",
    "df.groupby('Country')['Highest_Inn_Score'].max()\n",
    "#By default it will sort by the original index attached to each country, to sort by order of number we create a frame\n",
    "df.groupby('Country')['Highest_Inn_Score'].max().to_frame('HighestInnPerCountry').reset_index().sort_values('HighestInnPerCountry',ascending=False)"
   ]
  },
  {
   "cell_type": "code",
   "execution_count": 54,
   "id": "89c3abd2",
   "metadata": {},
   "outputs": [
    {
     "data": {
      "text/html": [
       "<div>\n",
       "<style scoped>\n",
       "    .dataframe tbody tr th:only-of-type {\n",
       "        vertical-align: middle;\n",
       "    }\n",
       "\n",
       "    .dataframe tbody tr th {\n",
       "        vertical-align: top;\n",
       "    }\n",
       "\n",
       "    .dataframe thead th {\n",
       "        text-align: right;\n",
       "    }\n",
       "</style>\n",
       "<table border=\"1\" class=\"dataframe\">\n",
       "  <thead>\n",
       "    <tr style=\"text-align: right;\">\n",
       "      <th></th>\n",
       "      <th>Hundred_Scored</th>\n",
       "      <th>Fifties_Scored</th>\n",
       "      <th>0s</th>\n",
       "    </tr>\n",
       "    <tr>\n",
       "      <th>Country</th>\n",
       "      <th></th>\n",
       "      <th></th>\n",
       "      <th></th>\n",
       "    </tr>\n",
       "  </thead>\n",
       "  <tbody>\n",
       "    <tr>\n",
       "      <th>AUS</th>\n",
       "      <td>20.625000</td>\n",
       "      <td>28.312500</td>\n",
       "      <td>8.500000</td>\n",
       "    </tr>\n",
       "    <tr>\n",
       "      <th>ENG</th>\n",
       "      <td>12.307692</td>\n",
       "      <td>20.769231</td>\n",
       "      <td>4.307692</td>\n",
       "    </tr>\n",
       "    <tr>\n",
       "      <th>ICC/IND</th>\n",
       "      <td>29.500000</td>\n",
       "      <td>47.500000</td>\n",
       "      <td>12.000000</td>\n",
       "    </tr>\n",
       "    <tr>\n",
       "      <th>ICC/PAK</th>\n",
       "      <td>25.000000</td>\n",
       "      <td>46.000000</td>\n",
       "      <td>15.000000</td>\n",
       "    </tr>\n",
       "    <tr>\n",
       "      <th>ICC/SA</th>\n",
       "      <td>36.000000</td>\n",
       "      <td>48.000000</td>\n",
       "      <td>13.500000</td>\n",
       "    </tr>\n",
       "    <tr>\n",
       "      <th>ICC/WI</th>\n",
       "      <td>34.000000</td>\n",
       "      <td>48.000000</td>\n",
       "      <td>17.000000</td>\n",
       "    </tr>\n",
       "    <tr>\n",
       "      <th>IND</th>\n",
       "      <td>29.500000</td>\n",
       "      <td>36.500000</td>\n",
       "      <td>10.750000</td>\n",
       "    </tr>\n",
       "    <tr>\n",
       "      <th>NZ</th>\n",
       "      <td>17.000000</td>\n",
       "      <td>21.000000</td>\n",
       "      <td>5.500000</td>\n",
       "    </tr>\n",
       "    <tr>\n",
       "      <th>PAK</th>\n",
       "      <td>21.250000</td>\n",
       "      <td>28.000000</td>\n",
       "      <td>9.500000</td>\n",
       "    </tr>\n",
       "    <tr>\n",
       "      <th>SA</th>\n",
       "      <td>9.800000</td>\n",
       "      <td>20.200000</td>\n",
       "      <td>3.400000</td>\n",
       "    </tr>\n",
       "    <tr>\n",
       "      <th>SL</th>\n",
       "      <td>28.666667</td>\n",
       "      <td>44.000000</td>\n",
       "      <td>12.333333</td>\n",
       "    </tr>\n",
       "    <tr>\n",
       "      <th>WI</th>\n",
       "      <td>16.625000</td>\n",
       "      <td>25.625000</td>\n",
       "      <td>7.250000</td>\n",
       "    </tr>\n",
       "    <tr>\n",
       "      <th>ZIM</th>\n",
       "      <td>12.000000</td>\n",
       "      <td>27.000000</td>\n",
       "      <td>5.000000</td>\n",
       "    </tr>\n",
       "  </tbody>\n",
       "</table>\n",
       "</div>"
      ],
      "text/plain": [
       "         Hundred_Scored  Fifties_Scored         0s\n",
       "Country                                           \n",
       "AUS           20.625000       28.312500   8.500000\n",
       "ENG           12.307692       20.769231   4.307692\n",
       "ICC/IND       29.500000       47.500000  12.000000\n",
       "ICC/PAK       25.000000       46.000000  15.000000\n",
       "ICC/SA        36.000000       48.000000  13.500000\n",
       "ICC/WI        34.000000       48.000000  17.000000\n",
       "IND           29.500000       36.500000  10.750000\n",
       "NZ            17.000000       21.000000   5.500000\n",
       "PAK           21.250000       28.000000   9.500000\n",
       "SA             9.800000       20.200000   3.400000\n",
       "SL            28.666667       44.000000  12.333333\n",
       "WI            16.625000       25.625000   7.250000\n",
       "ZIM           12.000000       27.000000   5.000000"
      ]
     },
     "execution_count": 54,
     "metadata": {},
     "output_type": "execute_result"
    }
   ],
   "source": [
    "#TASK: Grab Average of 100s,50s and ducks (0s) by Country:\n",
    "df.groupby('Country')[['Hundred_Scored','Fifties_Scored','0s']].mean()"
   ]
  },
  {
   "cell_type": "markdown",
   "id": "9b7f122a",
   "metadata": {},
   "source": [
    "## Exploratory Analysis"
   ]
  },
  {
   "cell_type": "markdown",
   "id": "d4168508",
   "metadata": {},
   "source": [
    "### Task 1: Analyzing distribution of batting averages vs strike rates"
   ]
  },
  {
   "cell_type": "code",
   "execution_count": 55,
   "id": "68ec9fab",
   "metadata": {},
   "outputs": [
    {
     "name": "stdout",
     "output_type": "stream",
     "text": [
      "count    62.000000\n",
      "mean     53.681129\n",
      "std       7.195703\n",
      "min      48.000000\n",
      "25%      49.510000\n",
      "50%      51.735000\n",
      "75%      56.345000\n",
      "max      99.940000\n",
      "Name: Batting_Average, dtype: float64\n"
     ]
    },
    {
     "data": {
      "image/png": "[encoded data removed]",
      "text/plain": [
       "<Figure size 640x480 with 1 Axes>"
      ]
     },
     "metadata": {},
     "output_type": "display_data"
    }
   ],
   "source": [
    "#Task 1: Analyzing distribution of batting averages vs strike rates\n",
    "plt.hist(df['Batting_Average'],bins=8)\n",
    "print(df['Batting_Average'].describe())"
   ]
  },
  {
   "cell_type": "code",
   "execution_count": 56,
   "id": "3911c3bc",
   "metadata": {},
   "outputs": [],
   "source": [
    "# Batting Average is right skewed, there seems to be a large outlier indicating a much stronger than average performance"
   ]
  },
  {
   "cell_type": "code",
   "execution_count": 57,
   "id": "936ec13f",
   "metadata": {},
   "outputs": [
    {
     "data": {
      "text/html": [
       "<div>\n",
       "<style scoped>\n",
       "    .dataframe tbody tr th:only-of-type {\n",
       "        vertical-align: middle;\n",
       "    }\n",
       "\n",
       "    .dataframe tbody tr th {\n",
       "        vertical-align: top;\n",
       "    }\n",
       "\n",
       "    .dataframe thead th {\n",
       "        text-align: right;\n",
       "    }\n",
       "</style>\n",
       "<table border=\"1\" class=\"dataframe\">\n",
       "  <thead>\n",
       "    <tr style=\"text-align: right;\">\n",
       "      <th></th>\n",
       "      <th>Player</th>\n",
       "      <th>Start_Year</th>\n",
       "      <th>End_Year</th>\n",
       "      <th>Years_Played</th>\n",
       "      <th>Matches_Played</th>\n",
       "      <th>Inns</th>\n",
       "      <th>Not_Outs</th>\n",
       "      <th>Runs</th>\n",
       "      <th>Highest_Inn_Score</th>\n",
       "      <th>Batting_Average</th>\n",
       "      <th>Balls_Faced</th>\n",
       "      <th>Batting_Strike_Rate</th>\n",
       "      <th>Hundred_Scored</th>\n",
       "      <th>Fifties_Scored</th>\n",
       "      <th>0s</th>\n",
       "      <th>Boundary_Fours</th>\n",
       "      <th>Boundary_Sixes</th>\n",
       "      <th>Country</th>\n",
       "    </tr>\n",
       "  </thead>\n",
       "  <tbody>\n",
       "    <tr>\n",
       "      <th>0</th>\n",
       "      <td>DG Bradman</td>\n",
       "      <td>1928</td>\n",
       "      <td>1948</td>\n",
       "      <td>20</td>\n",
       "      <td>52</td>\n",
       "      <td>80.0</td>\n",
       "      <td>10.0</td>\n",
       "      <td>6996</td>\n",
       "      <td>334</td>\n",
       "      <td>99.94</td>\n",
       "      <td>9800</td>\n",
       "      <td>58.6</td>\n",
       "      <td>29</td>\n",
       "      <td>13</td>\n",
       "      <td>7</td>\n",
       "      <td>626</td>\n",
       "      <td>6</td>\n",
       "      <td>AUS</td>\n",
       "    </tr>\n",
       "  </tbody>\n",
       "</table>\n",
       "</div>"
      ],
      "text/plain": [
       "        Player  Start_Year  End_Year  Years_Played  Matches_Played  Inns  \\\n",
       "0  DG Bradman         1928      1948            20              52  80.0   \n",
       "\n",
       "   Not_Outs  Runs  Highest_Inn_Score  Batting_Average  Balls_Faced  \\\n",
       "0      10.0  6996                334            99.94         9800   \n",
       "\n",
       "   Batting_Strike_Rate  Hundred_Scored  Fifties_Scored  0s  Boundary_Fours  \\\n",
       "0                 58.6              29              13   7             626   \n",
       "\n",
       "   Boundary_Sixes Country  \n",
       "0               6     AUS  "
      ]
     },
     "execution_count": 57,
     "metadata": {},
     "output_type": "execute_result"
    }
   ],
   "source": [
    "#looking into outlier\n",
    "df[df['Batting_Average']>90]\n",
    "#Historical Context: DG Bradman had a verified Test Batting Average of 99.94 which is considered one of the sports\n",
    "#greatest accomplishments (thus not a data entry error or typo) and was consistently a legendary player"
   ]
  },
  {
   "cell_type": "code",
   "execution_count": 58,
   "id": "a783b02e",
   "metadata": {},
   "outputs": [
    {
     "name": "stdout",
     "output_type": "stream",
     "text": [
      "count    62.000000\n",
      "mean     49.932881\n",
      "std      11.288337\n",
      "min      25.590000\n",
      "25%      43.447500\n",
      "50%      50.031441\n",
      "75%      55.397500\n",
      "max      91.760000\n",
      "Name: Batting_Strike_Rate, dtype: float64\n"
     ]
    },
    {
     "data": {
      "image/png": "[encoded data removed]",
      "text/plain": [
       "<Figure size 640x480 with 1 Axes>"
      ]
     },
     "metadata": {},
     "output_type": "display_data"
    }
   ],
   "source": [
    "plt.hist(df['Batting_Strike_Rate'])\n",
    "print(df['Batting_Strike_Rate'].describe())"
   ]
  },
  {
   "cell_type": "code",
   "execution_count": 59,
   "id": "a78256e3",
   "metadata": {},
   "outputs": [],
   "source": [
    "#Batting strike rate follows a more normal distribution, though it also has a few outliers indicating stronger performances\n",
    "#by some athletes"
   ]
  },
  {
   "cell_type": "code",
   "execution_count": 60,
   "id": "11dc40c2",
   "metadata": {},
   "outputs": [
    {
     "data": {
      "text/html": [
       "<div>\n",
       "<style scoped>\n",
       "    .dataframe tbody tr th:only-of-type {\n",
       "        vertical-align: middle;\n",
       "    }\n",
       "\n",
       "    .dataframe tbody tr th {\n",
       "        vertical-align: top;\n",
       "    }\n",
       "\n",
       "    .dataframe thead th {\n",
       "        text-align: right;\n",
       "    }\n",
       "</style>\n",
       "<table border=\"1\" class=\"dataframe\">\n",
       "  <thead>\n",
       "    <tr style=\"text-align: right;\">\n",
       "      <th></th>\n",
       "      <th>Player</th>\n",
       "      <th>Start_Year</th>\n",
       "      <th>End_Year</th>\n",
       "      <th>Years_Played</th>\n",
       "      <th>Matches_Played</th>\n",
       "      <th>Inns</th>\n",
       "      <th>Not_Outs</th>\n",
       "      <th>Runs</th>\n",
       "      <th>Highest_Inn_Score</th>\n",
       "      <th>Batting_Average</th>\n",
       "      <th>Balls_Faced</th>\n",
       "      <th>Batting_Strike_Rate</th>\n",
       "      <th>Hundred_Scored</th>\n",
       "      <th>Fifties_Scored</th>\n",
       "      <th>0s</th>\n",
       "      <th>Boundary_Fours</th>\n",
       "      <th>Boundary_Sixes</th>\n",
       "      <th>Country</th>\n",
       "    </tr>\n",
       "  </thead>\n",
       "  <tbody>\n",
       "    <tr>\n",
       "      <th>1</th>\n",
       "      <td>HC Brook</td>\n",
       "      <td>2022</td>\n",
       "      <td>2023</td>\n",
       "      <td>1</td>\n",
       "      <td>12</td>\n",
       "      <td>20.0</td>\n",
       "      <td>1.0</td>\n",
       "      <td>1181</td>\n",
       "      <td>186</td>\n",
       "      <td>62.15</td>\n",
       "      <td>1287</td>\n",
       "      <td>91.76</td>\n",
       "      <td>4</td>\n",
       "      <td>7</td>\n",
       "      <td>1</td>\n",
       "      <td>141</td>\n",
       "      <td>23</td>\n",
       "      <td>ENG</td>\n",
       "    </tr>\n",
       "    <tr>\n",
       "      <th>49</th>\n",
       "      <td>V Sehwag</td>\n",
       "      <td>2001</td>\n",
       "      <td>2013</td>\n",
       "      <td>12</td>\n",
       "      <td>104</td>\n",
       "      <td>180.0</td>\n",
       "      <td>6.0</td>\n",
       "      <td>8586</td>\n",
       "      <td>319</td>\n",
       "      <td>49.34</td>\n",
       "      <td>10441</td>\n",
       "      <td>82.23</td>\n",
       "      <td>23</td>\n",
       "      <td>32</td>\n",
       "      <td>16</td>\n",
       "      <td>1233</td>\n",
       "      <td>91</td>\n",
       "      <td>ICC/IND</td>\n",
       "    </tr>\n",
       "  </tbody>\n",
       "</table>\n",
       "</div>"
      ],
      "text/plain": [
       "       Player  Start_Year  End_Year  Years_Played  Matches_Played   Inns  \\\n",
       "1   HC Brook         2022      2023             1              12   20.0   \n",
       "49  V Sehwag         2001      2013            12             104  180.0   \n",
       "\n",
       "    Not_Outs  Runs  Highest_Inn_Score  Batting_Average  Balls_Faced  \\\n",
       "1        1.0  1181                186            62.15         1287   \n",
       "49       6.0  8586                319            49.34        10441   \n",
       "\n",
       "    Batting_Strike_Rate  Hundred_Scored  Fifties_Scored  0s  Boundary_Fours  \\\n",
       "1                 91.76               4               7   1             141   \n",
       "49                82.23              23              32  16            1233   \n",
       "\n",
       "    Boundary_Sixes  Country  \n",
       "1               23      ENG  \n",
       "49              91  ICC/IND  "
      ]
     },
     "execution_count": 60,
     "metadata": {},
     "output_type": "execute_result"
    }
   ],
   "source": [
    "df[df['Batting_Strike_Rate']>75]\n",
    "#Both HC Brook and V Sehwag are widely regarded for their batting rates, Sehwag being held as one of the most dominant batters"
   ]
  },
  {
   "cell_type": "code",
   "execution_count": 61,
   "id": "60dd8f3a",
   "metadata": {},
   "outputs": [
    {
     "data": {
      "text/plain": [
       "Text(80, 99, 'Correlation Coefficient: 0.16')"
      ]
     },
     "execution_count": 61,
     "metadata": {},
     "output_type": "execute_result"
    },
    {
     "data": {
      "image/png": "[encoded data removed]",
      "text/plain": [
       "<Figure size 640x480 with 1 Axes>"
      ]
     },
     "metadata": {},
     "output_type": "display_data"
    }
   ],
   "source": [
    "sns.regplot(x='Batting_Average', y='Batting_Strike_Rate', data=df, scatter_kws={'s': 50})\n",
    "plt.xlabel('Batting Average')\n",
    "plt.ylabel('Batting Strike Rate')\n",
    "plt.title('Batting Average vs Strike Rate')\n",
    "correlation = df['Batting_Average'].corr(df['Batting_Strike_Rate'])\n",
    "plt.text(80, 99, f'Correlation Coefficient: {correlation:.2f}', fontsize=8, color='red')"
   ]
  },
  {
   "cell_type": "code",
   "execution_count": 62,
   "id": "adabd44b",
   "metadata": {},
   "outputs": [],
   "source": [
    "#We see most players are clustered in one area indicating that on average players will bat between 50-65 and have a strike\n",
    "#rate just below 65, there are outliers indicating some players are much stronger on their strike rate than batting average\n",
    "# and vice versa but that is not the norm\n",
    "\n",
    "#We also spot a low positive correlation between these attributes indicating the relationship and predictability between\n",
    "#these two variables is not very high, batting average is not a strong indicator of batting strike rate and vice versa"
   ]
  },
  {
   "cell_type": "markdown",
   "id": "3101df00",
   "metadata": {},
   "source": [
    "### Exploratory Task 2: Assessing relation between Years Played and Runs and 0s scored"
   ]
  },
  {
   "cell_type": "code",
   "execution_count": 63,
   "id": "5b5c436d",
   "metadata": {},
   "outputs": [
    {
     "data": {
      "text/plain": [
       "(array([ 4.,  5.,  6., 12., 11., 14.,  7.,  3.]),\n",
       " array([ 1.   ,  3.875,  6.75 ,  9.625, 12.5  , 15.375, 18.25 , 21.125,\n",
       "        24.   ]),\n",
       " <BarContainer object of 8 artists>)"
      ]
     },
     "execution_count": 63,
     "metadata": {},
     "output_type": "execute_result"
    },
    {
     "data": {
      "image/png": "[encoded data removed]",
      "text/plain": [
       "<Figure size 640x480 with 1 Axes>"
      ]
     },
     "metadata": {},
     "output_type": "display_data"
    }
   ],
   "source": [
    "#Exploratory Task 2: Assessing relation between Years Played and Runs and 0s scored\n",
    "\n",
    "#Distribution of Years Played\n",
    "#plt.boxplot(df['Years_Played'])\n",
    "\n",
    "plt.hist(df['Years_Played'],bins=8) #most players tend to fall between 10-18 years of career length"
   ]
  },
  {
   "cell_type": "code",
   "execution_count": 64,
   "id": "0babcf6d",
   "metadata": {},
   "outputs": [
    {
     "data": {
      "text/plain": [
       "{'whiskers': [<matplotlib.lines.Line2D at 0x28066b2d410>,\n",
       "  <matplotlib.lines.Line2D at 0x28066b2e050>],\n",
       " 'caps': [<matplotlib.lines.Line2D at 0x28066b2e990>,\n",
       "  <matplotlib.lines.Line2D at 0x28066b2f4d0>],\n",
       " 'boxes': [<matplotlib.lines.Line2D at 0x28065dce3d0>],\n",
       " 'medians': [<matplotlib.lines.Line2D at 0x28066b2fed0>],\n",
       " 'fliers': [<matplotlib.lines.Line2D at 0x28065dcc9d0>],\n",
       " 'means': []}"
      ]
     },
     "execution_count": 64,
     "metadata": {},
     "output_type": "execute_result"
    },
    {
     "data": {
      "image/png": "[encoded data removed]",
      "text/plain": [
       "<Figure size 640x480 with 1 Axes>"
      ]
     },
     "metadata": {},
     "output_type": "display_data"
    }
   ],
   "source": [
    "#plotting distribution of Runs and 0s\n",
    "plt.boxplot(df['Runs'])\n",
    "#no outliers exist showing datas spread and variability falls inside the boxplots central range\n",
    "#this helps establish consistency within our Run column as no data falls beyond the expected range (1.5*IQR)\n",
    "\n",
    "#It is noticeable that the data within the box skews towards the lower side of runs, there seems to be a wide range\n",
    "# of data below the median (values below ~6000 runs) which are pulling the box down and skewing it"
   ]
  },
  {
   "cell_type": "code",
   "execution_count": 65,
   "id": "b7cf3d85",
   "metadata": {},
   "outputs": [
    {
     "data": {
      "text/plain": [
       "{'whiskers': [<matplotlib.lines.Line2D at 0x28066b97710>,\n",
       "  <matplotlib.lines.Line2D at 0x28066ba03d0>],\n",
       " 'caps': [<matplotlib.lines.Line2D at 0x28066ba0f90>,\n",
       "  <matplotlib.lines.Line2D at 0x28066ba1950>],\n",
       " 'boxes': [<matplotlib.lines.Line2D at 0x28066b96bd0>],\n",
       " 'medians': [<matplotlib.lines.Line2D at 0x28066ba24d0>],\n",
       " 'fliers': [<matplotlib.lines.Line2D at 0x28066ba2ed0>],\n",
       " 'means': []}"
      ]
     },
     "execution_count": 65,
     "metadata": {},
     "output_type": "execute_result"
    },
    {
     "data": {
      "image/png": "[encoded data removed]",
      "text/plain": [
       "<Figure size 640x480 with 1 Axes>"
      ]
     },
     "metadata": {},
     "output_type": "display_data"
    }
   ],
   "source": [
    "#Distribution of 0s\n",
    "plt.boxplot(df['0s'])\n",
    "#No outliers as well, data seems to skew towards the higher end (more 0s) indicating there is are players with larger\n",
    "#0s (ducks) scored showing some level of variability in the data with regards to the number of 0s scored"
   ]
  },
  {
   "cell_type": "code",
   "execution_count": 66,
   "id": "e76a4d08",
   "metadata": {},
   "outputs": [
    {
     "data": {
      "text/plain": [
       "Text(17, 20, 'Correlation Coefficient: 0.49')"
      ]
     },
     "execution_count": 66,
     "metadata": {},
     "output_type": "execute_result"
    },
    {
     "data": {
      "image/png": "[encoded data removed]",
      "text/plain": [
       "<Figure size 640x480 with 1 Axes>"
      ]
     },
     "metadata": {},
     "output_type": "display_data"
    }
   ],
   "source": [
    "#Determining relationships between Years Played and 0s/Runs Scored\n",
    "sns.regplot(x='Years_Played', y='0s', data=df, scatter_kws={'s': 50})\n",
    "plt.xlabel('# of Years Played')\n",
    "plt.ylabel('# of 0s Scored')\n",
    "plt.title('Years Played vs 0s Scored')\n",
    "correlation = df['Years_Played'].corr(df['0s'])\n",
    "plt.text(17, 20, f'Correlation Coefficient: {correlation:.2f}', fontsize=8, color='red')\n",
    "\n",
    "#we see here a relatively stronger positive correlation (0.49) exists betweeen # of Years Played and # of 0s Scored\n",
    "#but it is not strong enough to indicate a direct relationship, there are many players with lots of experience and\n",
    "#minimal 0s which takes away from the idea that more years played leads to more likelihood of scoring 0s"
   ]
  },
  {
   "cell_type": "code",
   "execution_count": 67,
   "id": "2ecefe93",
   "metadata": {},
   "outputs": [
    {
     "data": {
      "text/plain": [
       "Text(17, 20, 'Correlation Coefficient: 0.61')"
      ]
     },
     "execution_count": 67,
     "metadata": {},
     "output_type": "execute_result"
    },
    {
     "data": {
      "image/png": "[encoded data removed]",
      "text/plain": [
       "<Figure size 640x480 with 1 Axes>"
      ]
     },
     "metadata": {},
     "output_type": "display_data"
    }
   ],
   "source": [
    "#Relationship between Years Played and Runs Scored\n",
    "sns.regplot(x='Years_Played', y='Runs', data=df, scatter_kws={'s': 50})\n",
    "plt.xlabel('# of Years Played')\n",
    "plt.ylabel('Runs')\n",
    "plt.title('Years Played vs Runs Scored')\n",
    "correlation = df['Years_Played'].corr(df['Runs'])\n",
    "plt.text(17, 20, f'Correlation Coefficient: {correlation:.2f}', fontsize=8, color='red')\n",
    "\n",
    "#we see a stronger positive correlation here (0.61) indicating there is a relation between number of years played\n",
    "#and the amount of runs scored (the more years you play the higher your run score) though there are anamolies\n",
    "#and outliers which go against this, the most apparent one is GA Headley who played 24 years and scored only\n",
    "#2190 runs, the main cause of this was that his career took place from 1930-1954 leading him to join WW2 from 1939-1948"
   ]
  },
  {
   "cell_type": "code",
   "execution_count": 68,
   "id": "2e5f4107",
   "metadata": {},
   "outputs": [
    {
     "data": {
      "text/html": [
       "<div>\n",
       "<style scoped>\n",
       "    .dataframe tbody tr th:only-of-type {\n",
       "        vertical-align: middle;\n",
       "    }\n",
       "\n",
       "    .dataframe tbody tr th {\n",
       "        vertical-align: top;\n",
       "    }\n",
       "\n",
       "    .dataframe thead th {\n",
       "        text-align: right;\n",
       "    }\n",
       "</style>\n",
       "<table border=\"1\" class=\"dataframe\">\n",
       "  <thead>\n",
       "    <tr style=\"text-align: right;\">\n",
       "      <th></th>\n",
       "      <th>Player</th>\n",
       "      <th>Start_Year</th>\n",
       "      <th>End_Year</th>\n",
       "      <th>Years_Played</th>\n",
       "      <th>Matches_Played</th>\n",
       "      <th>Inns</th>\n",
       "      <th>Not_Outs</th>\n",
       "      <th>Runs</th>\n",
       "      <th>Highest_Inn_Score</th>\n",
       "      <th>Batting_Average</th>\n",
       "      <th>Balls_Faced</th>\n",
       "      <th>Batting_Strike_Rate</th>\n",
       "      <th>Hundred_Scored</th>\n",
       "      <th>Fifties_Scored</th>\n",
       "      <th>0s</th>\n",
       "      <th>Boundary_Fours</th>\n",
       "      <th>Boundary_Sixes</th>\n",
       "      <th>Country</th>\n",
       "    </tr>\n",
       "  </thead>\n",
       "  <tbody>\n",
       "    <tr>\n",
       "      <th>4</th>\n",
       "      <td>GA Headley</td>\n",
       "      <td>1930</td>\n",
       "      <td>1954</td>\n",
       "      <td>24</td>\n",
       "      <td>22</td>\n",
       "      <td>40.0</td>\n",
       "      <td>4.0</td>\n",
       "      <td>2190</td>\n",
       "      <td>270</td>\n",
       "      <td>60.83</td>\n",
       "      <td>416</td>\n",
       "      <td>56.00</td>\n",
       "      <td>10</td>\n",
       "      <td>5</td>\n",
       "      <td>2</td>\n",
       "      <td>104</td>\n",
       "      <td>1</td>\n",
       "      <td>WI</td>\n",
       "    </tr>\n",
       "    <tr>\n",
       "      <th>24</th>\n",
       "      <td>SR Tendulkar</td>\n",
       "      <td>1989</td>\n",
       "      <td>2013</td>\n",
       "      <td>24</td>\n",
       "      <td>200</td>\n",
       "      <td>329.0</td>\n",
       "      <td>33.0</td>\n",
       "      <td>15921</td>\n",
       "      <td>248</td>\n",
       "      <td>53.78</td>\n",
       "      <td>29437</td>\n",
       "      <td>54.04</td>\n",
       "      <td>51</td>\n",
       "      <td>68</td>\n",
       "      <td>14</td>\n",
       "      <td>2058</td>\n",
       "      <td>69</td>\n",
       "      <td>IND</td>\n",
       "    </tr>\n",
       "  </tbody>\n",
       "</table>\n",
       "</div>"
      ],
      "text/plain": [
       "           Player  Start_Year  End_Year  Years_Played  Matches_Played   Inns  \\\n",
       "4     GA Headley         1930      1954            24              22   40.0   \n",
       "24  SR Tendulkar         1989      2013            24             200  329.0   \n",
       "\n",
       "    Not_Outs   Runs  Highest_Inn_Score  Batting_Average  Balls_Faced  \\\n",
       "4        4.0   2190                270            60.83          416   \n",
       "24      33.0  15921                248            53.78        29437   \n",
       "\n",
       "    Batting_Strike_Rate  Hundred_Scored  Fifties_Scored  0s  Boundary_Fours  \\\n",
       "4                 56.00              10               5   2             104   \n",
       "24                54.04              51              68  14            2058   \n",
       "\n",
       "    Boundary_Sixes Country  \n",
       "4                1      WI  \n",
       "24              69     IND  "
      ]
     },
     "execution_count": 68,
     "metadata": {},
     "output_type": "execute_result"
    }
   ],
   "source": [
    "df[df['Years_Played']>22] #searching for the outlier in GA Headley"
   ]
  },
  {
   "cell_type": "markdown",
   "id": "09219ae1",
   "metadata": {},
   "source": [
    "### Exploratory Task 3: Number of Matches vs Highest Inn Scored (is there a relation?)"
   ]
  },
  {
   "cell_type": "code",
   "execution_count": 69,
   "id": "b881568e",
   "metadata": {},
   "outputs": [
    {
     "data": {
      "text/plain": [
       "(array([16.,  6.,  5.,  9.,  5.,  9.,  4.,  2.,  5.,  1.]),\n",
       " array([ 12. ,  30.8,  49.6,  68.4,  87.2, 106. , 124.8, 143.6, 162.4,\n",
       "        181.2, 200. ]),\n",
       " <BarContainer object of 10 artists>)"
      ]
     },
     "execution_count": 69,
     "metadata": {},
     "output_type": "execute_result"
    },
    {
     "data": {
      "image/png": "[encoded data removed]",
      "text/plain": [
       "<Figure size 640x480 with 1 Axes>"
      ]
     },
     "metadata": {},
     "output_type": "display_data"
    }
   ],
   "source": [
    "plt.hist(df['Matches_Played'])"
   ]
  },
  {
   "cell_type": "code",
   "execution_count": 70,
   "id": "0bd8602a",
   "metadata": {},
   "outputs": [
    {
     "data": {
      "text/plain": [
       "<matplotlib.collections.PathCollection at 0x28067fd7dd0>"
      ]
     },
     "execution_count": 70,
     "metadata": {},
     "output_type": "execute_result"
    },
    {
     "data": {
      "image/png": "[encoded data removed]",
      "text/plain": [
       "<Figure size 640x480 with 1 Axes>"
      ]
     },
     "metadata": {},
     "output_type": "display_data"
    }
   ],
   "source": [
    "#looking at distribution of highest inn scores\n",
    "\n",
    "\n",
    "plt.scatter(range(len(df['Highest_Inn_Score'])),df['Highest_Inn_Score']) "
   ]
  },
  {
   "cell_type": "code",
   "execution_count": 71,
   "id": "d3e3d766",
   "metadata": {},
   "outputs": [
    {
     "data": {
      "text/plain": [
       "Text(0.5, 1.0, 'Heatmap: Matches Played vs Highest Inn Score')"
      ]
     },
     "execution_count": 71,
     "metadata": {},
     "output_type": "execute_result"
    },
    {
     "data": {
      "image/png": "[encoded data removed]",
      "text/plain": [
       "<Figure size 1000x800 with 2 Axes>"
      ]
     },
     "metadata": {},
     "output_type": "display_data"
    }
   ],
   "source": [
    "sns.set(style='whitegrid')\n",
    "plt.figure(figsize=(10,8))\n",
    "heatmap_data = df[['Matches_Played','Highest_Inn_Score']]\n",
    "heatmap = sns.heatmap(heatmap_data.corr(),\n",
    "                      annot=True,\n",
    "                      cmap='cividis',\n",
    "                      linewidth=0.5,\n",
    "                      square=True,\n",
    "                     cbar_kws={'shrink': 0.8})\n",
    "plt.title('Heatmap: Matches Played vs Highest Inn Score', fontsize=16)\n",
    "\n",
    "# we see there is a moderate positive correlation (0.43) between matches played and highest inn score showing there is a \n",
    "#bit of a relation between the two but it is not strong enough to be the sole indicator as seen in heatmap below."
   ]
  }
 ],
 "metadata": {
  "kernelspec": {
   "display_name": "Python 3 (ipykernel)",
   "language": "python",
   "name": "python3"
  },
  "language_info": {
   "codemirror_mode": {
    "name": "ipython",
    "version": 3
   },
   "file_extension": ".py",
   "mimetype": "text/x-python",
   "name": "python",
   "nbconvert_exporter": "python",
   "pygments_lexer": "ipython3",
   "version": "3.11.5"
  }
 },
 "nbformat": 4,
 "nbformat_minor": 5
}
